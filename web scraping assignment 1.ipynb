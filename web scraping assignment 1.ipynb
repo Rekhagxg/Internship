{
 "cells": [
  {
   "cell_type": "markdown",
   "id": "9acda51c",
   "metadata": {},
   "source": [
    "# Wikipedia Webscrabbing "
   ]
  },
  {
   "cell_type": "code",
   "execution_count": 3,
   "id": "5ff8dbac",
   "metadata": {},
   "outputs": [],
   "source": [
    "import requests\n",
    "import pandas as pd\n",
    "from bs4 import BeautifulSoup"
   ]
  },
  {
   "cell_type": "markdown",
   "id": "a917dedc",
   "metadata": {},
   "source": [
    "send get request to the webpage server to get the source code of the page."
   ]
  },
  {
   "cell_type": "code",
   "execution_count": 4,
   "id": "787e9aec",
   "metadata": {},
   "outputs": [],
   "source": [
    "response=requests.get('https://en.wikipedia.org/wiki/Main_Page')"
   ]
  },
  {
   "cell_type": "code",
   "execution_count": 5,
   "id": "3684c7d3",
   "metadata": {},
   "outputs": [
    {
     "data": {
      "text/plain": [
       "<Response [200]>"
      ]
     },
     "execution_count": 5,
     "metadata": {},
     "output_type": "execute_result"
    }
   ],
   "source": [
    "response"
   ]
  },
  {
   "cell_type": "markdown",
   "id": "626d4ae6",
   "metadata": {},
   "source": [
    "Page content"
   ]
  },
  {
   "cell_type": "code",
   "execution_count": 7,
   "id": "6eaa115c",
   "metadata": {},
   "outputs": [],
   "source": [
    "soup=BeautifulSoup(response.content)\n",
    "# soup"
   ]
  },
  {
   "cell_type": "markdown",
   "id": "ba0d17ad",
   "metadata": {},
   "source": [
    "find all Header tags (h1 to h7)"
   ]
  },
  {
   "cell_type": "code",
   "execution_count": 8,
   "id": "5976aa79",
   "metadata": {},
   "outputs": [],
   "source": [
    "headers= soup.find_all('header',class_=\"vector-header mw-header\")\n",
    "# headers"
   ]
  },
  {
   "cell_type": "code",
   "execution_count": 9,
   "id": "65ba377a",
   "metadata": {},
   "outputs": [],
   "source": [
    "headers=soup.find_all(['h1','h2','h3','h4','h5','h6'])\n",
    "# headers"
   ]
  },
  {
   "cell_type": "code",
   "execution_count": 48,
   "id": "d5f276ee",
   "metadata": {},
   "outputs": [],
   "source": [
    "headers_texts=[header.text for header in headers]"
   ]
  },
  {
   "cell_type": "code",
   "execution_count": 49,
   "id": "8806a6b3",
   "metadata": {},
   "outputs": [
    {
     "data": {
      "text/plain": [
       "['Main Page',\n",
       " 'Welcome to Wikipedia',\n",
       " \"From today's featured article\",\n",
       " 'Did you know\\xa0...',\n",
       " 'In the news',\n",
       " 'On this day',\n",
       " \"Today's featured picture\",\n",
       " 'Other areas of Wikipedia',\n",
       " \"Wikipedia's sister projects\",\n",
       " 'Wikipedia languages']"
      ]
     },
     "execution_count": 49,
     "metadata": {},
     "output_type": "execute_result"
    }
   ],
   "source": [
    "headers_texts"
   ]
  },
  {
   "cell_type": "markdown",
   "id": "3fbc0406",
   "metadata": {},
   "source": [
    "# Create DataFrame from the Header texts"
   ]
  },
  {
   "cell_type": "code",
   "execution_count": 54,
   "id": "318ebdd8",
   "metadata": {},
   "outputs": [
    {
     "data": {
      "text/html": [
       "<div>\n",
       "<style scoped>\n",
       "    .dataframe tbody tr th:only-of-type {\n",
       "        vertical-align: middle;\n",
       "    }\n",
       "\n",
       "    .dataframe tbody tr th {\n",
       "        vertical-align: top;\n",
       "    }\n",
       "\n",
       "    .dataframe thead th {\n",
       "        text-align: right;\n",
       "    }\n",
       "</style>\n",
       "<table border=\"1\" class=\"dataframe\">\n",
       "  <thead>\n",
       "    <tr style=\"text-align: right;\">\n",
       "      <th></th>\n",
       "      <th>Headers</th>\n",
       "    </tr>\n",
       "  </thead>\n",
       "  <tbody>\n",
       "    <tr>\n",
       "      <th>0</th>\n",
       "      <td>Main Page</td>\n",
       "    </tr>\n",
       "    <tr>\n",
       "      <th>1</th>\n",
       "      <td>Welcome to Wikipedia</td>\n",
       "    </tr>\n",
       "    <tr>\n",
       "      <th>2</th>\n",
       "      <td>From today's featured article</td>\n",
       "    </tr>\n",
       "    <tr>\n",
       "      <th>3</th>\n",
       "      <td>Did you know ...</td>\n",
       "    </tr>\n",
       "    <tr>\n",
       "      <th>4</th>\n",
       "      <td>In the news</td>\n",
       "    </tr>\n",
       "    <tr>\n",
       "      <th>5</th>\n",
       "      <td>On this day</td>\n",
       "    </tr>\n",
       "    <tr>\n",
       "      <th>6</th>\n",
       "      <td>Today's featured picture</td>\n",
       "    </tr>\n",
       "    <tr>\n",
       "      <th>7</th>\n",
       "      <td>Other areas of Wikipedia</td>\n",
       "    </tr>\n",
       "    <tr>\n",
       "      <th>8</th>\n",
       "      <td>Wikipedia's sister projects</td>\n",
       "    </tr>\n",
       "    <tr>\n",
       "      <th>9</th>\n",
       "      <td>Wikipedia languages</td>\n",
       "    </tr>\n",
       "  </tbody>\n",
       "</table>\n",
       "</div>"
      ],
      "text/plain": [
       "                         Headers\n",
       "0                      Main Page\n",
       "1           Welcome to Wikipedia\n",
       "2  From today's featured article\n",
       "3               Did you know ...\n",
       "4                    In the news\n",
       "5                    On this day\n",
       "6       Today's featured picture\n",
       "7       Other areas of Wikipedia\n",
       "8    Wikipedia's sister projects\n",
       "9            Wikipedia languages"
      ]
     },
     "execution_count": 54,
     "metadata": {},
     "output_type": "execute_result"
    }
   ],
   "source": [
    "df=pd.DataFrame(headers_texts,columns=['Headers'])\n",
    "df"
   ]
  },
  {
   "cell_type": "markdown",
   "id": "4c77d95a",
   "metadata": {},
   "source": [
    "Done Thank You"
   ]
  },
  {
   "cell_type": "code",
   "execution_count": null,
   "id": "91f5b268",
   "metadata": {},
   "outputs": [],
   "source": []
  },
  {
   "cell_type": "markdown",
   "id": "024c944d",
   "metadata": {},
   "source": [
    "# Former presidents web scraping"
   ]
  },
  {
   "cell_type": "code",
   "execution_count": 31,
   "id": "7df67bfb",
   "metadata": {},
   "outputs": [],
   "source": [
    "import requests\n",
    "import pandas as pd\n",
    "from bs4 import BeautifulSoup\n"
   ]
  },
  {
   "cell_type": "code",
   "execution_count": 32,
   "id": "40c42232",
   "metadata": {},
   "outputs": [],
   "source": [
    "permission=requests.get('https://presidentofindia.nic.in/former-presidents.htm')"
   ]
  },
  {
   "cell_type": "code",
   "execution_count": 33,
   "id": "36fd5f32",
   "metadata": {},
   "outputs": [
    {
     "data": {
      "text/plain": [
       "<Response [200]>"
      ]
     },
     "execution_count": 33,
     "metadata": {},
     "output_type": "execute_result"
    }
   ],
   "source": [
    "permission"
   ]
  },
  {
   "cell_type": "code",
   "execution_count": 34,
   "id": "b65ba7bc",
   "metadata": {},
   "outputs": [],
   "source": [
    "table=BeautifulSoup(permission.content)"
   ]
  },
  {
   "cell_type": "code",
   "execution_count": 35,
   "id": "185b6783",
   "metadata": {},
   "outputs": [],
   "source": [
    "# table"
   ]
  },
  {
   "cell_type": "code",
   "execution_count": 94,
   "id": "3c606b23",
   "metadata": {},
   "outputs": [],
   "source": [
    "president_name=[]\n"
   ]
  },
  {
   "cell_type": "code",
   "execution_count": 95,
   "id": "2f8f0776",
   "metadata": {
    "scrolled": true
   },
   "outputs": [
    {
     "data": {
      "text/plain": [
       "[<h3>Shri Ram Nath Kovind (birth - 1945)</h3>,\n",
       " <h3>Shri Pranab Mukherjee (1935-2020)</h3>,\n",
       " <h3>Smt Pratibha Devisingh Patil (birth - 1934)</h3>,\n",
       " <h3>DR. A.P.J. Abdul Kalam (1931-2015)</h3>,\n",
       " <h3>Shri K. R. Narayanan (1920 - 2005)</h3>,\n",
       " <h3>Dr Shankar Dayal Sharma (1918-1999)</h3>,\n",
       " <h3>Shri R Venkataraman (1910-2009)</h3>,\n",
       " <h3>Giani Zail Singh (1916-1994)</h3>,\n",
       " <h3>Shri Neelam Sanjiva Reddy (1913-1996)</h3>,\n",
       " <h3>Dr. Fakhruddin Ali Ahmed (1905-1977)</h3>,\n",
       " <h3>Shri Varahagiri Venkata Giri (1894-1980)</h3>,\n",
       " <h3>Dr. Zakir Husain (1897-1969)</h3>,\n",
       " <h3>Dr. Sarvepalli Radhakrishnan (1888-1975)</h3>,\n",
       " <h3>Dr. Rajendra Prasad (1884-1963) </h3>]"
      ]
     },
     "execution_count": 95,
     "metadata": {},
     "output_type": "execute_result"
    }
   ],
   "source": [
    "President= table.find_all('h3')\n",
    "President"
   ]
  },
  {
   "cell_type": "code",
   "execution_count": 96,
   "id": "27276285",
   "metadata": {
    "scrolled": true
   },
   "outputs": [
    {
     "data": {
      "text/plain": [
       "['Shri Ram Nath Kovind (birth - 1945)',\n",
       " 'Shri Pranab Mukherjee (1935-2020)',\n",
       " 'Smt Pratibha Devisingh Patil (birth - 1934)',\n",
       " 'DR. A.P.J. Abdul Kalam (1931-2015)',\n",
       " 'Shri K. R. Narayanan (1920 - 2005)',\n",
       " 'Dr Shankar Dayal Sharma (1918-1999)',\n",
       " 'Shri R Venkataraman (1910-2009)',\n",
       " 'Giani Zail Singh (1916-1994)',\n",
       " 'Shri Neelam Sanjiva Reddy (1913-1996)',\n",
       " 'Dr. Fakhruddin Ali Ahmed (1905-1977)',\n",
       " 'Shri Varahagiri Venkata Giri (1894-1980)',\n",
       " 'Dr. Zakir Husain (1897-1969)',\n",
       " 'Dr. Sarvepalli Radhakrishnan (1888-1975)',\n",
       " 'Dr. Rajendra Prasad (1884-1963) ']"
      ]
     },
     "execution_count": 96,
     "metadata": {},
     "output_type": "execute_result"
    }
   ],
   "source": [
    "President_names=[header.text for header in President]\n",
    "President_names"
   ]
  },
  {
   "cell_type": "code",
   "execution_count": 107,
   "id": "69023242",
   "metadata": {},
   "outputs": [
    {
     "data": {
      "text/plain": [
       "[' 25 July, 2017 to 25 July, 2022 ',\n",
       " ' 25 July, 2012 to 25 July, 2017 ',\n",
       " ' 25 July, 2007 to 25 July, 2012 ',\n",
       " ' 25 July, 2002 to 25 July, 2007 ',\n",
       " ' 25 July, 1997 to 25 July, 2002',\n",
       " ' 25 July, 1992 to 25 July, 1997',\n",
       " ' 25 July, 1987 to 25 July, 1992',\n",
       " ' 25 July, 1982 to 25 July, 1987',\n",
       " ' 25 July, 1977 to 25 July, 1982',\n",
       " ' 24 August, 1974 to 11 February, 1977',\n",
       " ' 3 May, 1969 to 20 July, 1969 and 24 August, 1969 to 24 August, 1974',\n",
       " ' 13 May, 1967 to 3 May, 1969',\n",
       " ' 13 May, 1962 to 13 May, 1967',\n",
       " ' 26 January, 1950 to 13 May, 1962']"
      ]
     },
     "execution_count": 107,
     "metadata": {},
     "output_type": "execute_result"
    }
   ],
   "source": [
    "president_term=table.find_all('div',class_=\"presidentListing\")\n",
    "# print(president_term)\n",
    "term_of_office_1=[]\n",
    "for term in president_term:\n",
    "    terms=term.text.strip().split(':')[1].strip('\\nhttps')\n",
    "    term_of_office_1.append(terms) \n",
    "term_of_office_1\n"
   ]
  },
  {
   "cell_type": "code",
   "execution_count": null,
   "id": "39a8485e",
   "metadata": {},
   "outputs": [],
   "source": []
  },
  {
   "cell_type": "markdown",
   "id": "243486b4",
   "metadata": {},
   "source": [
    "Create a DataFrame from the header texts"
   ]
  },
  {
   "cell_type": "code",
   "execution_count": 109,
   "id": "350eedc3",
   "metadata": {
    "scrolled": true
   },
   "outputs": [
    {
     "data": {
      "text/html": [
       "<div>\n",
       "<style scoped>\n",
       "    .dataframe tbody tr th:only-of-type {\n",
       "        vertical-align: middle;\n",
       "    }\n",
       "\n",
       "    .dataframe tbody tr th {\n",
       "        vertical-align: top;\n",
       "    }\n",
       "\n",
       "    .dataframe thead th {\n",
       "        text-align: right;\n",
       "    }\n",
       "</style>\n",
       "<table border=\"1\" class=\"dataframe\">\n",
       "  <thead>\n",
       "    <tr style=\"text-align: right;\">\n",
       "      <th></th>\n",
       "      <th>President Names</th>\n",
       "      <th>Term of office</th>\n",
       "    </tr>\n",
       "  </thead>\n",
       "  <tbody>\n",
       "    <tr>\n",
       "      <th>0</th>\n",
       "      <td>Shri Ram Nath Kovind (birth - 1945)</td>\n",
       "      <td>25 July, 2017 to 25 July, 2022</td>\n",
       "    </tr>\n",
       "    <tr>\n",
       "      <th>1</th>\n",
       "      <td>Shri Pranab Mukherjee (1935-2020)</td>\n",
       "      <td>25 July, 2012 to 25 July, 2017</td>\n",
       "    </tr>\n",
       "    <tr>\n",
       "      <th>2</th>\n",
       "      <td>Smt Pratibha Devisingh Patil (birth - 1934)</td>\n",
       "      <td>25 July, 2007 to 25 July, 2012</td>\n",
       "    </tr>\n",
       "    <tr>\n",
       "      <th>3</th>\n",
       "      <td>DR. A.P.J. Abdul Kalam (1931-2015)</td>\n",
       "      <td>25 July, 2002 to 25 July, 2007</td>\n",
       "    </tr>\n",
       "    <tr>\n",
       "      <th>4</th>\n",
       "      <td>Shri K. R. Narayanan (1920 - 2005)</td>\n",
       "      <td>25 July, 1997 to 25 July, 2002</td>\n",
       "    </tr>\n",
       "    <tr>\n",
       "      <th>5</th>\n",
       "      <td>Dr Shankar Dayal Sharma (1918-1999)</td>\n",
       "      <td>25 July, 1992 to 25 July, 1997</td>\n",
       "    </tr>\n",
       "    <tr>\n",
       "      <th>6</th>\n",
       "      <td>Shri R Venkataraman (1910-2009)</td>\n",
       "      <td>25 July, 1987 to 25 July, 1992</td>\n",
       "    </tr>\n",
       "    <tr>\n",
       "      <th>7</th>\n",
       "      <td>Giani Zail Singh (1916-1994)</td>\n",
       "      <td>25 July, 1982 to 25 July, 1987</td>\n",
       "    </tr>\n",
       "    <tr>\n",
       "      <th>8</th>\n",
       "      <td>Shri Neelam Sanjiva Reddy (1913-1996)</td>\n",
       "      <td>25 July, 1977 to 25 July, 1982</td>\n",
       "    </tr>\n",
       "    <tr>\n",
       "      <th>9</th>\n",
       "      <td>Dr. Fakhruddin Ali Ahmed (1905-1977)</td>\n",
       "      <td>24 August, 1974 to 11 February, 1977</td>\n",
       "    </tr>\n",
       "    <tr>\n",
       "      <th>10</th>\n",
       "      <td>Shri Varahagiri Venkata Giri (1894-1980)</td>\n",
       "      <td>3 May, 1969 to 20 July, 1969 and 24 August, 1...</td>\n",
       "    </tr>\n",
       "    <tr>\n",
       "      <th>11</th>\n",
       "      <td>Dr. Zakir Husain (1897-1969)</td>\n",
       "      <td>13 May, 1967 to 3 May, 1969</td>\n",
       "    </tr>\n",
       "    <tr>\n",
       "      <th>12</th>\n",
       "      <td>Dr. Sarvepalli Radhakrishnan (1888-1975)</td>\n",
       "      <td>13 May, 1962 to 13 May, 1967</td>\n",
       "    </tr>\n",
       "    <tr>\n",
       "      <th>13</th>\n",
       "      <td>Dr. Rajendra Prasad (1884-1963)</td>\n",
       "      <td>26 January, 1950 to 13 May, 1962</td>\n",
       "    </tr>\n",
       "  </tbody>\n",
       "</table>\n",
       "</div>"
      ],
      "text/plain": [
       "                                President Names  \\\n",
       "0           Shri Ram Nath Kovind (birth - 1945)   \n",
       "1             Shri Pranab Mukherjee (1935-2020)   \n",
       "2   Smt Pratibha Devisingh Patil (birth - 1934)   \n",
       "3            DR. A.P.J. Abdul Kalam (1931-2015)   \n",
       "4            Shri K. R. Narayanan (1920 - 2005)   \n",
       "5           Dr Shankar Dayal Sharma (1918-1999)   \n",
       "6               Shri R Venkataraman (1910-2009)   \n",
       "7                  Giani Zail Singh (1916-1994)   \n",
       "8         Shri Neelam Sanjiva Reddy (1913-1996)   \n",
       "9          Dr. Fakhruddin Ali Ahmed (1905-1977)   \n",
       "10     Shri Varahagiri Venkata Giri (1894-1980)   \n",
       "11                 Dr. Zakir Husain (1897-1969)   \n",
       "12     Dr. Sarvepalli Radhakrishnan (1888-1975)   \n",
       "13             Dr. Rajendra Prasad (1884-1963)    \n",
       "\n",
       "                                       Term of office  \n",
       "0                     25 July, 2017 to 25 July, 2022   \n",
       "1                     25 July, 2012 to 25 July, 2017   \n",
       "2                     25 July, 2007 to 25 July, 2012   \n",
       "3                     25 July, 2002 to 25 July, 2007   \n",
       "4                      25 July, 1997 to 25 July, 2002  \n",
       "5                      25 July, 1992 to 25 July, 1997  \n",
       "6                      25 July, 1987 to 25 July, 1992  \n",
       "7                      25 July, 1982 to 25 July, 1987  \n",
       "8                      25 July, 1977 to 25 July, 1982  \n",
       "9                24 August, 1974 to 11 February, 1977  \n",
       "10   3 May, 1969 to 20 July, 1969 and 24 August, 1...  \n",
       "11                        13 May, 1967 to 3 May, 1969  \n",
       "12                       13 May, 1962 to 13 May, 1967  \n",
       "13                   26 January, 1950 to 13 May, 1962  "
      ]
     },
     "execution_count": 109,
     "metadata": {},
     "output_type": "execute_result"
    }
   ],
   "source": [
    "df=pd.DataFrame({'President Names':President_names,'Term of office':term_of_office_1})\n",
    "df"
   ]
  },
  {
   "cell_type": "markdown",
   "id": "ecbff203",
   "metadata": {},
   "source": [
    "Done Thank you "
   ]
  },
  {
   "cell_type": "code",
   "execution_count": null,
   "id": "53e0edc1",
   "metadata": {},
   "outputs": [],
   "source": []
  },
  {
   "cell_type": "markdown",
   "id": "c1665a47",
   "metadata": {},
   "source": [
    "# Cricket web Scraping(mens)"
   ]
  },
  {
   "cell_type": "code",
   "execution_count": 27,
   "id": "c3b1f0ea",
   "metadata": {},
   "outputs": [],
   "source": [
    "import requests\n",
    "import pandas as pd\n",
    "from bs4 import BeautifulSoup"
   ]
  },
  {
   "cell_type": "code",
   "execution_count": 28,
   "id": "7f395cb5",
   "metadata": {},
   "outputs": [],
   "source": [
    "response=requests.get('https://www.icc-cricket.com/rankings/mens/team-rankings/odi')"
   ]
  },
  {
   "cell_type": "code",
   "execution_count": 29,
   "id": "80e35cc6",
   "metadata": {},
   "outputs": [
    {
     "data": {
      "text/plain": [
       "<Response [200]>"
      ]
     },
     "execution_count": 29,
     "metadata": {},
     "output_type": "execute_result"
    }
   ],
   "source": [
    "response"
   ]
  },
  {
   "cell_type": "code",
   "execution_count": 30,
   "id": "a4ee0e25",
   "metadata": {},
   "outputs": [],
   "source": [
    "team=BeautifulSoup(response.content)\n",
    "# team"
   ]
  },
  {
   "cell_type": "code",
   "execution_count": 131,
   "id": "3994d0b3",
   "metadata": {
    "scrolled": true
   },
   "outputs": [
    {
     "data": {
      "text/plain": [
       "[<span class=\"u-hide-phablet\">Australia</span>,\n",
       " <span class=\"u-hide-phablet\">Pakistan</span>,\n",
       " <span class=\"u-hide-phablet\">India</span>,\n",
       " <span class=\"u-hide-phablet\">New Zealand</span>,\n",
       " <span class=\"u-hide-phablet\">England</span>,\n",
       " <span class=\"u-hide-phablet\">South Africa</span>,\n",
       " <span class=\"u-hide-phablet\">Bangladesh</span>,\n",
       " <span class=\"u-hide-phablet\">Afghanistan</span>,\n",
       " <span class=\"u-hide-phablet\">Sri Lanka</span>,\n",
       " <span class=\"u-hide-phablet\">West Indies</span>,\n",
       " <span class=\"u-hide-phablet\">Zimbabwe</span>,\n",
       " <span class=\"u-hide-phablet\">Ireland</span>,\n",
       " <span class=\"u-hide-phablet\">Scotland</span>,\n",
       " <span class=\"u-hide-phablet\">Nepal</span>,\n",
       " <span class=\"u-hide-phablet\">United States</span>,\n",
       " <span class=\"u-hide-phablet\">Namibia</span>,\n",
       " <span class=\"u-hide-phablet\">Netherlands</span>,\n",
       " <span class=\"u-hide-phablet\">Oman</span>,\n",
       " <span class=\"u-hide-phablet\">UAE</span>,\n",
       " <span class=\"u-hide-phablet\">Papua New Guinea</span>]"
      ]
     },
     "execution_count": 131,
     "metadata": {},
     "output_type": "execute_result"
    }
   ],
   "source": [
    "team1=team.find_all('span',class_=\"u-hide-phablet\")\n",
    "team1"
   ]
  },
  {
   "cell_type": "code",
   "execution_count": 140,
   "id": "85fc7bd9",
   "metadata": {},
   "outputs": [
    {
     "data": {
      "text/plain": [
       "['Australia',\n",
       " 'Pakistan',\n",
       " 'India',\n",
       " 'New Zealand',\n",
       " 'England',\n",
       " 'South Africa',\n",
       " 'Bangladesh',\n",
       " 'Afghanistan',\n",
       " 'Sri Lanka',\n",
       " 'West Indies',\n",
       " 'Zimbabwe',\n",
       " 'Ireland',\n",
       " 'Scotland',\n",
       " 'Nepal',\n",
       " 'United States',\n",
       " 'Namibia',\n",
       " 'Netherlands',\n",
       " 'Oman',\n",
       " 'UAE',\n",
       " 'Papua New Guinea']"
      ]
     },
     "execution_count": 140,
     "metadata": {},
     "output_type": "execute_result"
    }
   ],
   "source": [
    "team_name=[]\n",
    "matches=[]\n",
    "points=[]\n",
    "ratings=[]\n",
    "\n",
    "for row in team.table.tbody.find_all('tr'):\n",
    "    columns=row.find_all('td')\n",
    "    names=columns[1].text.strip().split('\\n')[0]\n",
    "    match=columns[2].text.strip()\n",
    "    point=columns[3].text.strip()\n",
    "    rating=columns[4].text.strip()\n",
    "    \n",
    "    team_name.append(names)\n",
    "    matches.append(match)\n",
    "    points.append(point)\n",
    "    ratings.append(rating)\n",
    "    \n",
    "team_name\n",
    "\n",
    "    \n",
    "    \n",
    "    "
   ]
  },
  {
   "cell_type": "markdown",
   "id": "1e70f8b4",
   "metadata": {},
   "source": [
    "DataFrame"
   ]
  },
  {
   "cell_type": "code",
   "execution_count": 146,
   "id": "6bea512a",
   "metadata": {},
   "outputs": [
    {
     "data": {
      "text/html": [
       "<div>\n",
       "<style scoped>\n",
       "    .dataframe tbody tr th:only-of-type {\n",
       "        vertical-align: middle;\n",
       "    }\n",
       "\n",
       "    .dataframe tbody tr th {\n",
       "        vertical-align: top;\n",
       "    }\n",
       "\n",
       "    .dataframe thead th {\n",
       "        text-align: right;\n",
       "    }\n",
       "</style>\n",
       "<table border=\"1\" class=\"dataframe\">\n",
       "  <thead>\n",
       "    <tr style=\"text-align: right;\">\n",
       "      <th></th>\n",
       "      <th>names</th>\n",
       "      <th>match</th>\n",
       "      <th>point</th>\n",
       "      <th>rating</th>\n",
       "    </tr>\n",
       "  </thead>\n",
       "  <tbody>\n",
       "    <tr>\n",
       "      <th>0</th>\n",
       "      <td>Australia</td>\n",
       "      <td>23</td>\n",
       "      <td>2,714</td>\n",
       "      <td>118</td>\n",
       "    </tr>\n",
       "    <tr>\n",
       "      <th>1</th>\n",
       "      <td>Pakistan</td>\n",
       "      <td>20</td>\n",
       "      <td>2,316</td>\n",
       "      <td>116</td>\n",
       "    </tr>\n",
       "    <tr>\n",
       "      <th>2</th>\n",
       "      <td>India</td>\n",
       "      <td>33</td>\n",
       "      <td>3,807</td>\n",
       "      <td>115</td>\n",
       "    </tr>\n",
       "    <tr>\n",
       "      <th>3</th>\n",
       "      <td>New Zealand</td>\n",
       "      <td>27</td>\n",
       "      <td>2,806</td>\n",
       "      <td>104</td>\n",
       "    </tr>\n",
       "    <tr>\n",
       "      <th>4</th>\n",
       "      <td>England</td>\n",
       "      <td>24</td>\n",
       "      <td>2,426</td>\n",
       "      <td>101</td>\n",
       "    </tr>\n",
       "    <tr>\n",
       "      <th>5</th>\n",
       "      <td>South Africa</td>\n",
       "      <td>19</td>\n",
       "      <td>1,910</td>\n",
       "      <td>101</td>\n",
       "    </tr>\n",
       "    <tr>\n",
       "      <th>6</th>\n",
       "      <td>Bangladesh</td>\n",
       "      <td>25</td>\n",
       "      <td>2,451</td>\n",
       "      <td>98</td>\n",
       "    </tr>\n",
       "    <tr>\n",
       "      <th>7</th>\n",
       "      <td>Afghanistan</td>\n",
       "      <td>10</td>\n",
       "      <td>878</td>\n",
       "      <td>88</td>\n",
       "    </tr>\n",
       "    <tr>\n",
       "      <th>8</th>\n",
       "      <td>Sri Lanka</td>\n",
       "      <td>21</td>\n",
       "      <td>1,682</td>\n",
       "      <td>80</td>\n",
       "    </tr>\n",
       "    <tr>\n",
       "      <th>9</th>\n",
       "      <td>West Indies</td>\n",
       "      <td>25</td>\n",
       "      <td>1,797</td>\n",
       "      <td>72</td>\n",
       "    </tr>\n",
       "  </tbody>\n",
       "</table>\n",
       "</div>"
      ],
      "text/plain": [
       "          names match  point rating\n",
       "0     Australia    23  2,714    118\n",
       "1      Pakistan    20  2,316    116\n",
       "2         India    33  3,807    115\n",
       "3   New Zealand    27  2,806    104\n",
       "4       England    24  2,426    101\n",
       "5  South Africa    19  1,910    101\n",
       "6    Bangladesh    25  2,451     98\n",
       "7   Afghanistan    10    878     88\n",
       "8     Sri Lanka    21  1,682     80\n",
       "9   West Indies    25  1,797     72"
      ]
     },
     "execution_count": 146,
     "metadata": {},
     "output_type": "execute_result"
    }
   ],
   "source": [
    "df=pd.DataFrame({'names':team_name,'match':matches,'point':points,'rating':ratings})\n",
    "df.head(10)"
   ]
  },
  {
   "cell_type": "markdown",
   "id": "f1c41fc1",
   "metadata": {},
   "source": [
    "# Top 10 ODI Batsman "
   ]
  },
  {
   "cell_type": "code",
   "execution_count": 36,
   "id": "d1adfbdb",
   "metadata": {},
   "outputs": [],
   "source": [
    "import requests\n",
    "import pandas as pd\n",
    "from bs4 import BeautifulSoup"
   ]
  },
  {
   "cell_type": "code",
   "execution_count": 37,
   "id": "d7c11b84",
   "metadata": {},
   "outputs": [
    {
     "data": {
      "text/plain": [
       "<Response [200]>"
      ]
     },
     "execution_count": 37,
     "metadata": {},
     "output_type": "execute_result"
    }
   ],
   "source": [
    "respond=requests.get('https://www.icc-cricket.com/rankings/mens/player-rankings/odi')\n",
    "respond"
   ]
  },
  {
   "cell_type": "code",
   "execution_count": 38,
   "id": "7b819d9d",
   "metadata": {},
   "outputs": [],
   "source": [
    "team=BeautifulSoup(respond.content)\n",
    "# team"
   ]
  },
  {
   "cell_type": "code",
   "execution_count": 222,
   "id": "c9af0f4a",
   "metadata": {
    "scrolled": true
   },
   "outputs": [],
   "source": [
    "Batsmen=[]\n",
    "teams_name=[]\n",
    "ratings=[]\n",
    "team1=team.find('div',class_=\"rankings-block__banner--name\")\n",
    "name=team1.text\n",
    "# name\n",
    "Batsmen.append(name)\n"
   ]
  },
  {
   "cell_type": "code",
   "execution_count": 223,
   "id": "f5ddacfe",
   "metadata": {},
   "outputs": [
    {
     "data": {
      "text/plain": [
       "['Babar Azam']"
      ]
     },
     "execution_count": 223,
     "metadata": {},
     "output_type": "execute_result"
    }
   ],
   "source": [
    "Batsmen"
   ]
  },
  {
   "cell_type": "code",
   "execution_count": 224,
   "id": "41e37d84",
   "metadata": {},
   "outputs": [],
   "source": [
    "nation=team.find('div',class_=\"rankings-block__banner--nationality\")\n",
    "nationteam=nation.text.split('\\n')[2]\n",
    "nationteam\n",
    "teams_name.append(nationteam)\n"
   ]
  },
  {
   "cell_type": "code",
   "execution_count": 225,
   "id": "ed1e4f0a",
   "metadata": {},
   "outputs": [
    {
     "data": {
      "text/plain": [
       "['PAK']"
      ]
     },
     "execution_count": 225,
     "metadata": {},
     "output_type": "execute_result"
    }
   ],
   "source": [
    "teams_name"
   ]
  },
  {
   "cell_type": "code",
   "execution_count": 226,
   "id": "8dc4d7aa",
   "metadata": {},
   "outputs": [
    {
     "data": {
      "text/plain": [
       "<div class=\"rankings-block__banner--rating\">886</div>"
      ]
     },
     "execution_count": 226,
     "metadata": {},
     "output_type": "execute_result"
    }
   ],
   "source": [
    "rate=team.find('div',class_=\"rankings-block__banner--rating\")\n",
    "rate"
   ]
  },
  {
   "cell_type": "code",
   "execution_count": 227,
   "id": "2179b94f",
   "metadata": {},
   "outputs": [],
   "source": [
    "rating=rate.text"
   ]
  },
  {
   "cell_type": "code",
   "execution_count": 228,
   "id": "eb46f932",
   "metadata": {
    "scrolled": true
   },
   "outputs": [],
   "source": [
    "ratings.append(rating)"
   ]
  },
  {
   "cell_type": "code",
   "execution_count": 229,
   "id": "088b3eeb",
   "metadata": {},
   "outputs": [],
   "source": [
    "# batsmen=team.find_all('div',class_=\"u-negative-wrapper-tab uniform-grid touch-scroll-list--tablet\")\n",
    "# batsmen"
   ]
  },
  {
   "cell_type": "code",
   "execution_count": null,
   "id": "bbab5b52",
   "metadata": {},
   "outputs": [],
   "source": []
  },
  {
   "cell_type": "code",
   "execution_count": 230,
   "id": "06753d36",
   "metadata": {
    "scrolled": true
   },
   "outputs": [],
   "source": [
    "cricket_team=team.find('table', class_='table rankings-card-table')\n",
    "cricket_team\n",
    "\n",
    "for row in cricket_team.tbody.find_all('tr'):\n",
    "        columns = row.find_all('td')\n",
    "        batsman = columns[1].text.strip()\n",
    "        team_name = columns[2].text.strip()\n",
    "        rating = columns[3].text.strip()\n",
    "\n",
    "        Batsmen.append(batsman)\n",
    "        teams_name.append(team_name)\n",
    "        ratings.append(rating)\n",
    "\n"
   ]
  },
  {
   "cell_type": "code",
   "execution_count": 231,
   "id": "46c68cc9",
   "metadata": {},
   "outputs": [
    {
     "data": {
      "text/plain": [
       "['Babar Azam',\n",
       " 'Rassie van der Dussen',\n",
       " 'Fakhar Zaman',\n",
       " 'Imam-ul-Haq',\n",
       " 'Shubman Gill',\n",
       " 'David Warner',\n",
       " 'Harry Tector',\n",
       " 'Virat Kohli',\n",
       " 'Quinton de Kock',\n",
       " 'Rohit Sharma']"
      ]
     },
     "execution_count": 231,
     "metadata": {},
     "output_type": "execute_result"
    }
   ],
   "source": [
    "Batsmen"
   ]
  },
  {
   "cell_type": "code",
   "execution_count": 232,
   "id": "c83f95da",
   "metadata": {},
   "outputs": [
    {
     "data": {
      "text/plain": [
       "['PAK', 'SA', 'PAK', 'PAK', 'IND', 'AUS', 'IRE', 'IND', 'SA', 'IND']"
      ]
     },
     "execution_count": 232,
     "metadata": {},
     "output_type": "execute_result"
    }
   ],
   "source": [
    "teams_name"
   ]
  },
  {
   "cell_type": "code",
   "execution_count": 234,
   "id": "d2821278",
   "metadata": {},
   "outputs": [
    {
     "data": {
      "text/plain": [
       "['886', '777', '755', '745', '738', '726', '722', '719', '718', '707']"
      ]
     },
     "execution_count": 234,
     "metadata": {},
     "output_type": "execute_result"
    }
   ],
   "source": [
    "ratings"
   ]
  },
  {
   "cell_type": "markdown",
   "id": "c77daff6",
   "metadata": {},
   "source": [
    "DataFrame"
   ]
  },
  {
   "cell_type": "code",
   "execution_count": 237,
   "id": "94f81156",
   "metadata": {},
   "outputs": [
    {
     "data": {
      "text/html": [
       "<div>\n",
       "<style scoped>\n",
       "    .dataframe tbody tr th:only-of-type {\n",
       "        vertical-align: middle;\n",
       "    }\n",
       "\n",
       "    .dataframe tbody tr th {\n",
       "        vertical-align: top;\n",
       "    }\n",
       "\n",
       "    .dataframe thead th {\n",
       "        text-align: right;\n",
       "    }\n",
       "</style>\n",
       "<table border=\"1\" class=\"dataframe\">\n",
       "  <thead>\n",
       "    <tr style=\"text-align: right;\">\n",
       "      <th></th>\n",
       "      <th>Player Name</th>\n",
       "      <th>county Team</th>\n",
       "      <th>Ratings</th>\n",
       "    </tr>\n",
       "  </thead>\n",
       "  <tbody>\n",
       "    <tr>\n",
       "      <th>0</th>\n",
       "      <td>Babar Azam</td>\n",
       "      <td>PAK</td>\n",
       "      <td>886</td>\n",
       "    </tr>\n",
       "    <tr>\n",
       "      <th>1</th>\n",
       "      <td>Rassie van der Dussen</td>\n",
       "      <td>SA</td>\n",
       "      <td>777</td>\n",
       "    </tr>\n",
       "    <tr>\n",
       "      <th>2</th>\n",
       "      <td>Fakhar Zaman</td>\n",
       "      <td>PAK</td>\n",
       "      <td>755</td>\n",
       "    </tr>\n",
       "    <tr>\n",
       "      <th>3</th>\n",
       "      <td>Imam-ul-Haq</td>\n",
       "      <td>PAK</td>\n",
       "      <td>745</td>\n",
       "    </tr>\n",
       "    <tr>\n",
       "      <th>4</th>\n",
       "      <td>Shubman Gill</td>\n",
       "      <td>IND</td>\n",
       "      <td>738</td>\n",
       "    </tr>\n",
       "    <tr>\n",
       "      <th>5</th>\n",
       "      <td>David Warner</td>\n",
       "      <td>AUS</td>\n",
       "      <td>726</td>\n",
       "    </tr>\n",
       "    <tr>\n",
       "      <th>6</th>\n",
       "      <td>Harry Tector</td>\n",
       "      <td>IRE</td>\n",
       "      <td>722</td>\n",
       "    </tr>\n",
       "    <tr>\n",
       "      <th>7</th>\n",
       "      <td>Virat Kohli</td>\n",
       "      <td>IND</td>\n",
       "      <td>719</td>\n",
       "    </tr>\n",
       "    <tr>\n",
       "      <th>8</th>\n",
       "      <td>Quinton de Kock</td>\n",
       "      <td>SA</td>\n",
       "      <td>718</td>\n",
       "    </tr>\n",
       "    <tr>\n",
       "      <th>9</th>\n",
       "      <td>Rohit Sharma</td>\n",
       "      <td>IND</td>\n",
       "      <td>707</td>\n",
       "    </tr>\n",
       "  </tbody>\n",
       "</table>\n",
       "</div>"
      ],
      "text/plain": [
       "             Player Name county Team Ratings\n",
       "0             Babar Azam         PAK     886\n",
       "1  Rassie van der Dussen          SA     777\n",
       "2           Fakhar Zaman         PAK     755\n",
       "3            Imam-ul-Haq         PAK     745\n",
       "4           Shubman Gill         IND     738\n",
       "5           David Warner         AUS     726\n",
       "6           Harry Tector         IRE     722\n",
       "7            Virat Kohli         IND     719\n",
       "8        Quinton de Kock          SA     718\n",
       "9           Rohit Sharma         IND     707"
      ]
     },
     "execution_count": 237,
     "metadata": {},
     "output_type": "execute_result"
    }
   ],
   "source": [
    "df=pd.DataFrame({'Player Name':Batsmen,'county Team':teams_name,'Ratings':ratings})\n",
    "df"
   ]
  },
  {
   "cell_type": "markdown",
   "id": "5a56a8e4",
   "metadata": {},
   "source": [
    "# Top 10 ODI Bowler "
   ]
  },
  {
   "cell_type": "code",
   "execution_count": 23,
   "id": "d7dcbb92",
   "metadata": {},
   "outputs": [],
   "source": [
    "import requests\n",
    "import pandas as pd\n",
    "from bs4 import BeautifulSoup\n"
   ]
  },
  {
   "cell_type": "code",
   "execution_count": 24,
   "id": "5812baa2",
   "metadata": {},
   "outputs": [],
   "source": [
    "permi=requests.get('https://www.icc-cricket.com/rankings/mens/player-rankings/odi/bowling')"
   ]
  },
  {
   "cell_type": "code",
   "execution_count": 25,
   "id": "451f6240",
   "metadata": {},
   "outputs": [
    {
     "data": {
      "text/plain": [
       "<Response [200]>"
      ]
     },
     "execution_count": 25,
     "metadata": {},
     "output_type": "execute_result"
    }
   ],
   "source": [
    "permi"
   ]
  },
  {
   "cell_type": "code",
   "execution_count": 26,
   "id": "3cdbcdcf",
   "metadata": {},
   "outputs": [],
   "source": [
    "team=BeautifulSoup(permi.content)\n",
    "# team"
   ]
  },
  {
   "cell_type": "code",
   "execution_count": 311,
   "id": "2b4eb33d",
   "metadata": {},
   "outputs": [],
   "source": [
    "Bowler_name=[]\n",
    "nation_team=[]\n",
    "rating_1=[]\n",
    "\n",
    "Bowler=team.find('table',class_=\"table rankings-table\")\n",
    "# Bowler\n",
    "\n",
    "top_bowler=Bowler.find_all('tr')\n",
    "# top_bowler\n",
    "\n",
    "for row in top_bowler:\n",
    "    columns=row.find_all('td')\n",
    "    if(columns !=[]):\n",
    "        names=columns[1].text.strip()\n",
    "        team_name=columns[2].text.strip()\n",
    "        team_rating=columns[3].text.strip()\n",
    "        \n",
    "        Bowler_name.append(names)\n",
    "        nation_team.append(team_name)\n",
    "        rating_1.append(team_rating)\n",
    "    \n",
    "    "
   ]
  },
  {
   "cell_type": "markdown",
   "id": "28e94f01",
   "metadata": {},
   "source": [
    "DataFrame"
   ]
  },
  {
   "cell_type": "code",
   "execution_count": 316,
   "id": "85743841",
   "metadata": {},
   "outputs": [
    {
     "data": {
      "text/html": [
       "<div>\n",
       "<style scoped>\n",
       "    .dataframe tbody tr th:only-of-type {\n",
       "        vertical-align: middle;\n",
       "    }\n",
       "\n",
       "    .dataframe tbody tr th {\n",
       "        vertical-align: top;\n",
       "    }\n",
       "\n",
       "    .dataframe thead th {\n",
       "        text-align: right;\n",
       "    }\n",
       "</style>\n",
       "<table border=\"1\" class=\"dataframe\">\n",
       "  <thead>\n",
       "    <tr style=\"text-align: right;\">\n",
       "      <th></th>\n",
       "      <th>Bowler Name</th>\n",
       "      <th>Nation Team</th>\n",
       "      <th>Ratings</th>\n",
       "    </tr>\n",
       "  </thead>\n",
       "  <tbody>\n",
       "    <tr>\n",
       "      <th>0</th>\n",
       "      <td>Josh Hazlewood</td>\n",
       "      <td>AUS</td>\n",
       "      <td>705</td>\n",
       "    </tr>\n",
       "    <tr>\n",
       "      <th>1</th>\n",
       "      <td>Mohammed Siraj</td>\n",
       "      <td>IND</td>\n",
       "      <td>691</td>\n",
       "    </tr>\n",
       "    <tr>\n",
       "      <th>2</th>\n",
       "      <td>Mitchell Starc</td>\n",
       "      <td>AUS</td>\n",
       "      <td>686</td>\n",
       "    </tr>\n",
       "    <tr>\n",
       "      <th>3</th>\n",
       "      <td>Matt Henry</td>\n",
       "      <td>NZ</td>\n",
       "      <td>667</td>\n",
       "    </tr>\n",
       "    <tr>\n",
       "      <th>4</th>\n",
       "      <td>Trent Boult</td>\n",
       "      <td>NZ</td>\n",
       "      <td>660</td>\n",
       "    </tr>\n",
       "    <tr>\n",
       "      <th>5</th>\n",
       "      <td>Rashid Khan</td>\n",
       "      <td>AFG</td>\n",
       "      <td>659</td>\n",
       "    </tr>\n",
       "    <tr>\n",
       "      <th>6</th>\n",
       "      <td>Adam Zampa</td>\n",
       "      <td>AUS</td>\n",
       "      <td>652</td>\n",
       "    </tr>\n",
       "    <tr>\n",
       "      <th>7</th>\n",
       "      <td>Mujeeb Ur Rahman</td>\n",
       "      <td>AFG</td>\n",
       "      <td>637</td>\n",
       "    </tr>\n",
       "    <tr>\n",
       "      <th>8</th>\n",
       "      <td>Mohammad Nabi</td>\n",
       "      <td>AFG</td>\n",
       "      <td>631</td>\n",
       "    </tr>\n",
       "    <tr>\n",
       "      <th>9</th>\n",
       "      <td>Shaheen Afridi</td>\n",
       "      <td>PAK</td>\n",
       "      <td>630</td>\n",
       "    </tr>\n",
       "  </tbody>\n",
       "</table>\n",
       "</div>"
      ],
      "text/plain": [
       "        Bowler Name Nation Team Ratings\n",
       "0    Josh Hazlewood         AUS     705\n",
       "1    Mohammed Siraj         IND     691\n",
       "2    Mitchell Starc         AUS     686\n",
       "3        Matt Henry          NZ     667\n",
       "4       Trent Boult          NZ     660\n",
       "5       Rashid Khan         AFG     659\n",
       "6        Adam Zampa         AUS     652\n",
       "7  Mujeeb Ur Rahman         AFG     637\n",
       "8     Mohammad Nabi         AFG     631\n",
       "9    Shaheen Afridi         PAK     630"
      ]
     },
     "execution_count": 316,
     "metadata": {},
     "output_type": "execute_result"
    }
   ],
   "source": [
    "df=pd.DataFrame({'Bowler Name':Bowler_name,'Nation Team':nation_team,'Ratings':rating_1})\n",
    "df.head(10)"
   ]
  },
  {
   "cell_type": "code",
   "execution_count": null,
   "id": "ad2fffe2",
   "metadata": {},
   "outputs": [],
   "source": []
  },
  {
   "cell_type": "markdown",
   "id": "f805f4f0",
   "metadata": {},
   "source": [
    "# Cricket web scraping(womens)"
   ]
  },
  {
   "cell_type": "code",
   "execution_count": 11,
   "id": "3e3c732a",
   "metadata": {},
   "outputs": [],
   "source": [
    "import requests\n",
    "import pandas as pd\n",
    "from bs4 import BeautifulSoup"
   ]
  },
  {
   "cell_type": "code",
   "execution_count": 12,
   "id": "a2004558",
   "metadata": {},
   "outputs": [
    {
     "data": {
      "text/plain": [
       "<Response [200]>"
      ]
     },
     "execution_count": 12,
     "metadata": {},
     "output_type": "execute_result"
    }
   ],
   "source": [
    "req=requests.get('https://www.icc-cricket.com/rankings/womens/team-rankings/odi')\n",
    "req"
   ]
  },
  {
   "cell_type": "code",
   "execution_count": 13,
   "id": "f44ecab5",
   "metadata": {},
   "outputs": [],
   "source": [
    "teams=BeautifulSoup(req.content)\n",
    "# teams"
   ]
  },
  {
   "cell_type": "code",
   "execution_count": 335,
   "id": "d5a9db78",
   "metadata": {},
   "outputs": [],
   "source": [
    "team_name=[]\n",
    "matches=[]\n",
    "points=[]\n",
    "ratings=[]\n",
    "\n",
    "women=teams.find('table',class_=\"table\")\n",
    "\n",
    "\n",
    "top=women.find_all('tr')\n",
    "\n",
    "for row in top:\n",
    "    columns=row.find_all('td')\n",
    "    if(columns !=[]):\n",
    "        name=columns[1].text.strip().split('\\n')[0]\n",
    "        team_match=columns[2].text.strip()\n",
    "        team_points=columns[3].text.strip()\n",
    "        rates=columns[4].text.strip()\n",
    "        \n",
    "        team_name.append(name)\n",
    "        matches.append(team_match)\n",
    "        points.append(team_points)\n",
    "        ratings.append(rates)\n",
    "    \n",
    "    "
   ]
  },
  {
   "cell_type": "markdown",
   "id": "ff5cffca",
   "metadata": {},
   "source": [
    "DataFrame"
   ]
  },
  {
   "cell_type": "code",
   "execution_count": 336,
   "id": "b84c0fc1",
   "metadata": {
    "scrolled": true
   },
   "outputs": [
    {
     "data": {
      "text/html": [
       "<div>\n",
       "<style scoped>\n",
       "    .dataframe tbody tr th:only-of-type {\n",
       "        vertical-align: middle;\n",
       "    }\n",
       "\n",
       "    .dataframe tbody tr th {\n",
       "        vertical-align: top;\n",
       "    }\n",
       "\n",
       "    .dataframe thead th {\n",
       "        text-align: right;\n",
       "    }\n",
       "</style>\n",
       "<table border=\"1\" class=\"dataframe\">\n",
       "  <thead>\n",
       "    <tr style=\"text-align: right;\">\n",
       "      <th></th>\n",
       "      <th>Team Name</th>\n",
       "      <th>Matches</th>\n",
       "      <th>Points</th>\n",
       "      <th>Ratings</th>\n",
       "    </tr>\n",
       "  </thead>\n",
       "  <tbody>\n",
       "    <tr>\n",
       "      <th>0</th>\n",
       "      <td>Australia</td>\n",
       "      <td>21</td>\n",
       "      <td>3,603</td>\n",
       "      <td>172</td>\n",
       "    </tr>\n",
       "    <tr>\n",
       "      <th>1</th>\n",
       "      <td>England</td>\n",
       "      <td>28</td>\n",
       "      <td>3,342</td>\n",
       "      <td>119</td>\n",
       "    </tr>\n",
       "    <tr>\n",
       "      <th>2</th>\n",
       "      <td>South Africa</td>\n",
       "      <td>26</td>\n",
       "      <td>3,098</td>\n",
       "      <td>119</td>\n",
       "    </tr>\n",
       "    <tr>\n",
       "      <th>3</th>\n",
       "      <td>India</td>\n",
       "      <td>27</td>\n",
       "      <td>2,820</td>\n",
       "      <td>104</td>\n",
       "    </tr>\n",
       "    <tr>\n",
       "      <th>4</th>\n",
       "      <td>New Zealand</td>\n",
       "      <td>25</td>\n",
       "      <td>2,553</td>\n",
       "      <td>102</td>\n",
       "    </tr>\n",
       "    <tr>\n",
       "      <th>5</th>\n",
       "      <td>West Indies</td>\n",
       "      <td>27</td>\n",
       "      <td>2,535</td>\n",
       "      <td>94</td>\n",
       "    </tr>\n",
       "    <tr>\n",
       "      <th>6</th>\n",
       "      <td>Thailand</td>\n",
       "      <td>11</td>\n",
       "      <td>821</td>\n",
       "      <td>75</td>\n",
       "    </tr>\n",
       "    <tr>\n",
       "      <th>7</th>\n",
       "      <td>Bangladesh</td>\n",
       "      <td>14</td>\n",
       "      <td>977</td>\n",
       "      <td>70</td>\n",
       "    </tr>\n",
       "    <tr>\n",
       "      <th>8</th>\n",
       "      <td>Pakistan</td>\n",
       "      <td>27</td>\n",
       "      <td>1,678</td>\n",
       "      <td>62</td>\n",
       "    </tr>\n",
       "    <tr>\n",
       "      <th>9</th>\n",
       "      <td>Sri Lanka</td>\n",
       "      <td>9</td>\n",
       "      <td>479</td>\n",
       "      <td>53</td>\n",
       "    </tr>\n",
       "  </tbody>\n",
       "</table>\n",
       "</div>"
      ],
      "text/plain": [
       "      Team Name Matches Points Ratings\n",
       "0     Australia      21  3,603     172\n",
       "1       England      28  3,342     119\n",
       "2  South Africa      26  3,098     119\n",
       "3         India      27  2,820     104\n",
       "4   New Zealand      25  2,553     102\n",
       "5   West Indies      27  2,535      94\n",
       "6      Thailand      11    821      75\n",
       "7    Bangladesh      14    977      70\n",
       "8      Pakistan      27  1,678      62\n",
       "9     Sri Lanka       9    479      53"
      ]
     },
     "execution_count": 336,
     "metadata": {},
     "output_type": "execute_result"
    }
   ],
   "source": [
    "df=pd.DataFrame({'Team Name':team_name,'Matches':matches,'Points':points,'Ratings':ratings})\n",
    "df.head(10)"
   ]
  },
  {
   "cell_type": "code",
   "execution_count": null,
   "id": "299d3adb",
   "metadata": {},
   "outputs": [],
   "source": []
  },
  {
   "cell_type": "markdown",
   "id": "80ee12ea",
   "metadata": {},
   "source": [
    "# Top 10 Batting (womens)"
   ]
  },
  {
   "cell_type": "code",
   "execution_count": 20,
   "id": "5e537ae5",
   "metadata": {},
   "outputs": [],
   "source": [
    "import requests\n",
    "import pandas as pd\n",
    "from bs4 import BeautifulSoup"
   ]
  },
  {
   "cell_type": "code",
   "execution_count": 21,
   "id": "736b7258",
   "metadata": {},
   "outputs": [
    {
     "data": {
      "text/plain": [
       "<Response [200]>"
      ]
     },
     "execution_count": 21,
     "metadata": {},
     "output_type": "execute_result"
    }
   ],
   "source": [
    "permit=requests.get('https://www.icc-cricket.com/rankings/womens/player-rankings/odi/batting')\n",
    "permit"
   ]
  },
  {
   "cell_type": "code",
   "execution_count": 22,
   "id": "b414afe6",
   "metadata": {},
   "outputs": [],
   "source": [
    "batt=BeautifulSoup(permit.content)\n",
    "# batt"
   ]
  },
  {
   "cell_type": "code",
   "execution_count": 343,
   "id": "f7520b14",
   "metadata": {},
   "outputs": [],
   "source": [
    "name_batt=[]\n",
    "team_batt=[]\n",
    "rate_batt=[]\n",
    "\n",
    "\n",
    "womens=batt.find('table',class_=\"table rankings-table\")\n",
    "\n",
    "\n",
    "top=womens.find_all('tr')\n",
    "\n",
    "for row in top:\n",
    "    columns=row.find_all('td')\n",
    "    if(columns !=[]):\n",
    "        name=columns[1].text.strip().split('\\n')[0]\n",
    "        teamb=columns[2].text.strip()\n",
    "        teamr=columns[3].text.strip()\n",
    "        \n",
    "        name_batt.append(name)\n",
    "        team_batt.append(teamb)\n",
    "        rate_batt.append(teamr)\n",
    "       \n",
    "        \n"
   ]
  },
  {
   "cell_type": "markdown",
   "id": "65a360b2",
   "metadata": {},
   "source": [
    "DataFrame"
   ]
  },
  {
   "cell_type": "code",
   "execution_count": 344,
   "id": "74c96ea1",
   "metadata": {},
   "outputs": [
    {
     "data": {
      "text/html": [
       "<div>\n",
       "<style scoped>\n",
       "    .dataframe tbody tr th:only-of-type {\n",
       "        vertical-align: middle;\n",
       "    }\n",
       "\n",
       "    .dataframe tbody tr th {\n",
       "        vertical-align: top;\n",
       "    }\n",
       "\n",
       "    .dataframe thead th {\n",
       "        text-align: right;\n",
       "    }\n",
       "</style>\n",
       "<table border=\"1\" class=\"dataframe\">\n",
       "  <thead>\n",
       "    <tr style=\"text-align: right;\">\n",
       "      <th></th>\n",
       "      <th>Player Name</th>\n",
       "      <th>Team</th>\n",
       "      <th>Rating</th>\n",
       "    </tr>\n",
       "  </thead>\n",
       "  <tbody>\n",
       "    <tr>\n",
       "      <th>0</th>\n",
       "      <td>Beth Mooney</td>\n",
       "      <td>AUS</td>\n",
       "      <td>754</td>\n",
       "    </tr>\n",
       "    <tr>\n",
       "      <th>1</th>\n",
       "      <td>Laura Wolvaardt</td>\n",
       "      <td>SA</td>\n",
       "      <td>732</td>\n",
       "    </tr>\n",
       "    <tr>\n",
       "      <th>2</th>\n",
       "      <td>Natalie Sciver</td>\n",
       "      <td>ENG</td>\n",
       "      <td>731</td>\n",
       "    </tr>\n",
       "    <tr>\n",
       "      <th>3</th>\n",
       "      <td>Meg Lanning</td>\n",
       "      <td>AUS</td>\n",
       "      <td>717</td>\n",
       "    </tr>\n",
       "    <tr>\n",
       "      <th>4</th>\n",
       "      <td>Harmanpreet Kaur</td>\n",
       "      <td>IND</td>\n",
       "      <td>716</td>\n",
       "    </tr>\n",
       "    <tr>\n",
       "      <th>...</th>\n",
       "      <td>...</td>\n",
       "      <td>...</td>\n",
       "      <td>...</td>\n",
       "    </tr>\n",
       "    <tr>\n",
       "      <th>95</th>\n",
       "      <td>Kim Garth</td>\n",
       "      <td>AUS</td>\n",
       "      <td>202</td>\n",
       "    </tr>\n",
       "    <tr>\n",
       "      <th>96</th>\n",
       "      <td>Arlene Kelly</td>\n",
       "      <td>IRE</td>\n",
       "      <td>199</td>\n",
       "    </tr>\n",
       "    <tr>\n",
       "      <th>97</th>\n",
       "      <td>Fatima Sana</td>\n",
       "      <td>PAK</td>\n",
       "      <td>197</td>\n",
       "    </tr>\n",
       "    <tr>\n",
       "      <th>98</th>\n",
       "      <td>Mary-Anne Musonda</td>\n",
       "      <td>ZIM</td>\n",
       "      <td>196</td>\n",
       "    </tr>\n",
       "    <tr>\n",
       "      <th>99</th>\n",
       "      <td>Lea Tahuhu</td>\n",
       "      <td>NZ</td>\n",
       "      <td>196</td>\n",
       "    </tr>\n",
       "  </tbody>\n",
       "</table>\n",
       "<p>100 rows × 3 columns</p>\n",
       "</div>"
      ],
      "text/plain": [
       "          Player Name Team Rating\n",
       "0         Beth Mooney  AUS    754\n",
       "1     Laura Wolvaardt   SA    732\n",
       "2      Natalie Sciver  ENG    731\n",
       "3         Meg Lanning  AUS    717\n",
       "4    Harmanpreet Kaur  IND    716\n",
       "..                ...  ...    ...\n",
       "95          Kim Garth  AUS    202\n",
       "96       Arlene Kelly  IRE    199\n",
       "97        Fatima Sana  PAK    197\n",
       "98  Mary-Anne Musonda  ZIM    196\n",
       "99         Lea Tahuhu   NZ    196\n",
       "\n",
       "[100 rows x 3 columns]"
      ]
     },
     "execution_count": 344,
     "metadata": {},
     "output_type": "execute_result"
    }
   ],
   "source": [
    "df=pd.DataFrame({'Player Name':name_batt,'Team':team_batt,'Rating':rate_batt})\n",
    "df"
   ]
  },
  {
   "cell_type": "code",
   "execution_count": 345,
   "id": "97efb60a",
   "metadata": {},
   "outputs": [
    {
     "data": {
      "text/html": [
       "<div>\n",
       "<style scoped>\n",
       "    .dataframe tbody tr th:only-of-type {\n",
       "        vertical-align: middle;\n",
       "    }\n",
       "\n",
       "    .dataframe tbody tr th {\n",
       "        vertical-align: top;\n",
       "    }\n",
       "\n",
       "    .dataframe thead th {\n",
       "        text-align: right;\n",
       "    }\n",
       "</style>\n",
       "<table border=\"1\" class=\"dataframe\">\n",
       "  <thead>\n",
       "    <tr style=\"text-align: right;\">\n",
       "      <th></th>\n",
       "      <th>Player Name</th>\n",
       "      <th>Team</th>\n",
       "      <th>Rating</th>\n",
       "    </tr>\n",
       "  </thead>\n",
       "  <tbody>\n",
       "    <tr>\n",
       "      <th>0</th>\n",
       "      <td>Beth Mooney</td>\n",
       "      <td>AUS</td>\n",
       "      <td>754</td>\n",
       "    </tr>\n",
       "    <tr>\n",
       "      <th>1</th>\n",
       "      <td>Laura Wolvaardt</td>\n",
       "      <td>SA</td>\n",
       "      <td>732</td>\n",
       "    </tr>\n",
       "    <tr>\n",
       "      <th>2</th>\n",
       "      <td>Natalie Sciver</td>\n",
       "      <td>ENG</td>\n",
       "      <td>731</td>\n",
       "    </tr>\n",
       "    <tr>\n",
       "      <th>3</th>\n",
       "      <td>Meg Lanning</td>\n",
       "      <td>AUS</td>\n",
       "      <td>717</td>\n",
       "    </tr>\n",
       "    <tr>\n",
       "      <th>4</th>\n",
       "      <td>Harmanpreet Kaur</td>\n",
       "      <td>IND</td>\n",
       "      <td>716</td>\n",
       "    </tr>\n",
       "    <tr>\n",
       "      <th>5</th>\n",
       "      <td>Smriti Mandhana</td>\n",
       "      <td>IND</td>\n",
       "      <td>714</td>\n",
       "    </tr>\n",
       "    <tr>\n",
       "      <th>6</th>\n",
       "      <td>Chamari Athapaththu</td>\n",
       "      <td>SL</td>\n",
       "      <td>673</td>\n",
       "    </tr>\n",
       "    <tr>\n",
       "      <th>7</th>\n",
       "      <td>Ellyse Perry</td>\n",
       "      <td>AUS</td>\n",
       "      <td>626</td>\n",
       "    </tr>\n",
       "    <tr>\n",
       "      <th>8</th>\n",
       "      <td>Tammy Beaumont</td>\n",
       "      <td>ENG</td>\n",
       "      <td>595</td>\n",
       "    </tr>\n",
       "    <tr>\n",
       "      <th>9</th>\n",
       "      <td>Stafanie Taylor</td>\n",
       "      <td>WI</td>\n",
       "      <td>588</td>\n",
       "    </tr>\n",
       "  </tbody>\n",
       "</table>\n",
       "</div>"
      ],
      "text/plain": [
       "           Player Name Team Rating\n",
       "0          Beth Mooney  AUS    754\n",
       "1      Laura Wolvaardt   SA    732\n",
       "2       Natalie Sciver  ENG    731\n",
       "3          Meg Lanning  AUS    717\n",
       "4     Harmanpreet Kaur  IND    716\n",
       "5      Smriti Mandhana  IND    714\n",
       "6  Chamari Athapaththu   SL    673\n",
       "7         Ellyse Perry  AUS    626\n",
       "8       Tammy Beaumont  ENG    595\n",
       "9      Stafanie Taylor   WI    588"
      ]
     },
     "execution_count": 345,
     "metadata": {},
     "output_type": "execute_result"
    }
   ],
   "source": [
    "df.head(10)"
   ]
  },
  {
   "cell_type": "markdown",
   "id": "e68ec265",
   "metadata": {},
   "source": [
    "# Top 10 ODI All-rounder(womens)"
   ]
  },
  {
   "cell_type": "code",
   "execution_count": 17,
   "id": "685b9aac",
   "metadata": {},
   "outputs": [],
   "source": [
    "import requests\n",
    "import pandas as pd\n",
    "from bs4 import BeautifulSoup"
   ]
  },
  {
   "cell_type": "code",
   "execution_count": 18,
   "id": "42649cd5",
   "metadata": {},
   "outputs": [
    {
     "data": {
      "text/plain": [
       "<Response [200]>"
      ]
     },
     "execution_count": 18,
     "metadata": {},
     "output_type": "execute_result"
    }
   ],
   "source": [
    "reqs=requests.get('https://www.icc-cricket.com/rankings/womens/player-rankings/odi/all-rounder')\n",
    "reqs"
   ]
  },
  {
   "cell_type": "code",
   "execution_count": 19,
   "id": "bfb3e4eb",
   "metadata": {},
   "outputs": [],
   "source": [
    "all_rounder=BeautifulSoup(reqs.content)\n",
    "# all_rounder"
   ]
  },
  {
   "cell_type": "code",
   "execution_count": 350,
   "id": "ebab54a6",
   "metadata": {},
   "outputs": [],
   "source": [
    "name_rounder=[]\n",
    "team_rounder=[]\n",
    "rate_rounder=[]\n",
    "\n",
    "\n",
    "womens=all_rounder.find('table',class_=\"table rankings-table\")\n",
    "\n",
    "\n",
    "top_rounder=womens.find_all('tr')\n",
    "\n",
    "for row in top_rounder:\n",
    "    columns=row.find_all('td')\n",
    "    if(columns !=[]):\n",
    "        nameR=columns[1].text.strip().split('\\n')[0]\n",
    "        teamR=columns[2].text.strip()\n",
    "        rateR=columns[3].text.strip()\n",
    "        \n",
    "        name_rounder.append(nameR)\n",
    "        team_rounder.append(teamR)\n",
    "        rate_rounder.append(rateR)\n",
    "       \n",
    "        \n"
   ]
  },
  {
   "cell_type": "markdown",
   "id": "7008c8a1",
   "metadata": {},
   "source": [
    "DataFrame"
   ]
  },
  {
   "cell_type": "code",
   "execution_count": 351,
   "id": "f0f24c07",
   "metadata": {
    "scrolled": false
   },
   "outputs": [
    {
     "data": {
      "text/html": [
       "<div>\n",
       "<style scoped>\n",
       "    .dataframe tbody tr th:only-of-type {\n",
       "        vertical-align: middle;\n",
       "    }\n",
       "\n",
       "    .dataframe tbody tr th {\n",
       "        vertical-align: top;\n",
       "    }\n",
       "\n",
       "    .dataframe thead th {\n",
       "        text-align: right;\n",
       "    }\n",
       "</style>\n",
       "<table border=\"1\" class=\"dataframe\">\n",
       "  <thead>\n",
       "    <tr style=\"text-align: right;\">\n",
       "      <th></th>\n",
       "      <th>Player Name</th>\n",
       "      <th>Team</th>\n",
       "      <th>Rating</th>\n",
       "    </tr>\n",
       "  </thead>\n",
       "  <tbody>\n",
       "    <tr>\n",
       "      <th>0</th>\n",
       "      <td>Hayley Matthews</td>\n",
       "      <td>WI</td>\n",
       "      <td>373</td>\n",
       "    </tr>\n",
       "    <tr>\n",
       "      <th>1</th>\n",
       "      <td>Natalie Sciver</td>\n",
       "      <td>ENG</td>\n",
       "      <td>371</td>\n",
       "    </tr>\n",
       "    <tr>\n",
       "      <th>2</th>\n",
       "      <td>Ellyse Perry</td>\n",
       "      <td>AUS</td>\n",
       "      <td>366</td>\n",
       "    </tr>\n",
       "    <tr>\n",
       "      <th>3</th>\n",
       "      <td>Marizanne Kapp</td>\n",
       "      <td>SA</td>\n",
       "      <td>349</td>\n",
       "    </tr>\n",
       "    <tr>\n",
       "      <th>4</th>\n",
       "      <td>Amelia Kerr</td>\n",
       "      <td>NZ</td>\n",
       "      <td>336</td>\n",
       "    </tr>\n",
       "    <tr>\n",
       "      <th>5</th>\n",
       "      <td>Deepti Sharma</td>\n",
       "      <td>IND</td>\n",
       "      <td>322</td>\n",
       "    </tr>\n",
       "    <tr>\n",
       "      <th>6</th>\n",
       "      <td>Ashleigh Gardner</td>\n",
       "      <td>AUS</td>\n",
       "      <td>292</td>\n",
       "    </tr>\n",
       "    <tr>\n",
       "      <th>7</th>\n",
       "      <td>Jess Jonassen</td>\n",
       "      <td>AUS</td>\n",
       "      <td>250</td>\n",
       "    </tr>\n",
       "    <tr>\n",
       "      <th>8</th>\n",
       "      <td>Nida Dar</td>\n",
       "      <td>PAK</td>\n",
       "      <td>232</td>\n",
       "    </tr>\n",
       "    <tr>\n",
       "      <th>9</th>\n",
       "      <td>Sophie Ecclestone</td>\n",
       "      <td>ENG</td>\n",
       "      <td>205</td>\n",
       "    </tr>\n",
       "  </tbody>\n",
       "</table>\n",
       "</div>"
      ],
      "text/plain": [
       "         Player Name Team Rating\n",
       "0    Hayley Matthews   WI    373\n",
       "1     Natalie Sciver  ENG    371\n",
       "2       Ellyse Perry  AUS    366\n",
       "3     Marizanne Kapp   SA    349\n",
       "4        Amelia Kerr   NZ    336\n",
       "5      Deepti Sharma  IND    322\n",
       "6   Ashleigh Gardner  AUS    292\n",
       "7      Jess Jonassen  AUS    250\n",
       "8           Nida Dar  PAK    232\n",
       "9  Sophie Ecclestone  ENG    205"
      ]
     },
     "execution_count": 351,
     "metadata": {},
     "output_type": "execute_result"
    }
   ],
   "source": [
    "df=pd.DataFrame({'Player Name':name_rounder,'Team':team_rounder,'Rating':rate_rounder })\n",
    "df.head(10)"
   ]
  },
  {
   "cell_type": "markdown",
   "id": "77a00775",
   "metadata": {},
   "source": [
    "# CNBC.com (web scraping)"
   ]
  },
  {
   "cell_type": "code",
   "execution_count": 358,
   "id": "6ffef01e",
   "metadata": {},
   "outputs": [],
   "source": [
    "import requests\n",
    "import pandas as pd\n",
    "from bs4 import BeautifulSoup"
   ]
  },
  {
   "cell_type": "code",
   "execution_count": 359,
   "id": "45791c95",
   "metadata": {
    "scrolled": true
   },
   "outputs": [
    {
     "data": {
      "text/plain": [
       "<Response [200]>"
      ]
     },
     "execution_count": 359,
     "metadata": {},
     "output_type": "execute_result"
    }
   ],
   "source": [
    "Rex=requests.get('https://www.cnbc.com/world/?region=world')\n",
    "Rex"
   ]
  },
  {
   "cell_type": "code",
   "execution_count": 361,
   "id": "1e237c41",
   "metadata": {
    "scrolled": false
   },
   "outputs": [],
   "source": [
    "news=BeautifulSoup(Rex.content)\n",
    "# news"
   ]
  },
  {
   "cell_type": "code",
   "execution_count": 362,
   "id": "77e4d820",
   "metadata": {},
   "outputs": [
    {
     "data": {
      "text/plain": [
       "['https://www.cnbc.com/2023/05/26/treasury-says-it-wont-run-out-money-until-at-least-june-5-buying-time-for-debt-ceiling-talks.html']"
      ]
     },
     "execution_count": 362,
     "metadata": {},
     "output_type": "execute_result"
    }
   ],
   "source": [
    "headlines=[]\n",
    "news_article_link=[]\n",
    "headline=news.find('div',class_=\"FeaturedCard-contentText\")\n",
    "headlines.append(headline.text)\n",
    "\n",
    "news_link=headline.find('a',href=True)\n",
    "news_article_link.append(news_link['href'])\n",
    "news_article_link\n",
    "\n"
   ]
  },
  {
   "cell_type": "code",
   "execution_count": 363,
   "id": "69feb3e6",
   "metadata": {},
   "outputs": [
    {
     "data": {
      "text/plain": [
       "<Response [200]>"
      ]
     },
     "execution_count": 363,
     "metadata": {},
     "output_type": "execute_result"
    }
   ],
   "source": [
    "headline_time=requests.get('https://www.cnbc.com/2023/05/26/treasury-says-it-wont-run-out-money-until-at-least-june-5-buying-time-for-debt-ceiling-talks.html')\n",
    "headline_time"
   ]
  },
  {
   "cell_type": "code",
   "execution_count": 365,
   "id": "109502b9",
   "metadata": {
    "scrolled": false
   },
   "outputs": [],
   "source": [
    "get_time=BeautifulSoup(headline_time.content)\n",
    "# get_time"
   ]
  },
  {
   "cell_type": "code",
   "execution_count": 367,
   "id": "2700dc66",
   "metadata": {},
   "outputs": [],
   "source": [
    "times=[]\n",
    "headline_time=get_time.find('time',Class='')\n",
    "times.append(headline_time.text)\n"
   ]
  },
  {
   "cell_type": "code",
   "execution_count": 368,
   "id": "9de0bf16",
   "metadata": {},
   "outputs": [
    {
     "data": {
      "text/html": [
       "<div>\n",
       "<style scoped>\n",
       "    .dataframe tbody tr th:only-of-type {\n",
       "        vertical-align: middle;\n",
       "    }\n",
       "\n",
       "    .dataframe tbody tr th {\n",
       "        vertical-align: top;\n",
       "    }\n",
       "\n",
       "    .dataframe thead th {\n",
       "        text-align: right;\n",
       "    }\n",
       "</style>\n",
       "<table border=\"1\" class=\"dataframe\">\n",
       "  <thead>\n",
       "    <tr style=\"text-align: right;\">\n",
       "      <th></th>\n",
       "      <th>Headline</th>\n",
       "      <th>Time</th>\n",
       "      <th>News Link</th>\n",
       "    </tr>\n",
       "  </thead>\n",
       "  <tbody>\n",
       "    <tr>\n",
       "      <th>0</th>\n",
       "      <td>Treasury now says it could run out of money Ju...</td>\n",
       "      <td>Published Fri, May 26 20234:22 PM EDT</td>\n",
       "      <td>https://www.cnbc.com/2023/05/26/treasury-says-...</td>\n",
       "    </tr>\n",
       "  </tbody>\n",
       "</table>\n",
       "</div>"
      ],
      "text/plain": [
       "                                            Headline  \\\n",
       "0  Treasury now says it could run out of money Ju...   \n",
       "\n",
       "                                    Time  \\\n",
       "0  Published Fri, May 26 20234:22 PM EDT   \n",
       "\n",
       "                                           News Link  \n",
       "0  https://www.cnbc.com/2023/05/26/treasury-says-...  "
      ]
     },
     "execution_count": 368,
     "metadata": {},
     "output_type": "execute_result"
    }
   ],
   "source": [
    "df=pd.DataFrame({'Headline':headlines,'Time':times,'News Link':news_article_link})\n",
    "df"
   ]
  },
  {
   "cell_type": "markdown",
   "id": "1e780176",
   "metadata": {},
   "source": [
    "# Journal web scraping"
   ]
  },
  {
   "cell_type": "code",
   "execution_count": 14,
   "id": "94f10f9d",
   "metadata": {},
   "outputs": [],
   "source": [
    "import requests\n",
    "import pandas as pd\n",
    "from bs4 import BeautifulSoup"
   ]
  },
  {
   "cell_type": "code",
   "execution_count": 15,
   "id": "b583fbca",
   "metadata": {},
   "outputs": [
    {
     "data": {
      "text/plain": [
       "<Response [200]>"
      ]
     },
     "execution_count": 15,
     "metadata": {},
     "output_type": "execute_result"
    }
   ],
   "source": [
    "journal_website=requests.get('https://www.journals.elsevier.com/artificial-intelligence/most-downloaded-articles')\n",
    "journal_website"
   ]
  },
  {
   "cell_type": "code",
   "execution_count": 16,
   "id": "74ea4d08",
   "metadata": {},
   "outputs": [],
   "source": [
    "journal=BeautifulSoup(journal_website.content)\n",
    "# journal"
   ]
  },
  {
   "cell_type": "code",
   "execution_count": 376,
   "id": "f5083399",
   "metadata": {
    "scrolled": true
   },
   "outputs": [
    {
     "data": {
      "text/plain": [
       "24"
      ]
     },
     "execution_count": 376,
     "metadata": {},
     "output_type": "execute_result"
    }
   ],
   "source": [
    "paper_name=[]\n",
    "authors=[]\n",
    "published_date=[]\n",
    "paper_url=[]\n",
    "paper_title=journal.find_all('h2',class_=\"sc-1qrq3sd-1 gRGSUS sc-1nmom32-0 sc-1nmom32-1 btcbYu goSKRg\")\n",
    "for names in paper_title:\n",
    "    paper_name.append(names.text)\n",
    "len(paper_name)"
   ]
  },
  {
   "cell_type": "code",
   "execution_count": 384,
   "id": "f1ccc192",
   "metadata": {},
   "outputs": [
    {
     "data": {
      "text/plain": [
       "24"
      ]
     },
     "execution_count": 384,
     "metadata": {},
     "output_type": "execute_result"
    }
   ],
   "source": [
    "Autho=journal.find_all('span',class_=\"sc-1w3fpd7-0 dnCnAO\")\n",
    "for author in Autho:\n",
    "    authors.append(author.text)\n",
    "len(authors)\n"
   ]
  },
  {
   "cell_type": "code",
   "execution_count": 385,
   "id": "d40d83b8",
   "metadata": {},
   "outputs": [
    {
     "data": {
      "text/plain": [
       "24"
      ]
     },
     "execution_count": 385,
     "metadata": {},
     "output_type": "execute_result"
    }
   ],
   "source": [
    "for dat in journal.find_all('span',class_=\"sc-1thf9ly-2 dvggWt\"):\n",
    "    published_date.append(dat.text)\n",
    "len(published_date)\n"
   ]
  },
  {
   "cell_type": "code",
   "execution_count": 386,
   "id": "a533467a",
   "metadata": {},
   "outputs": [
    {
     "data": {
      "text/plain": [
       "24"
      ]
     },
     "execution_count": 386,
     "metadata": {},
     "output_type": "execute_result"
    }
   ],
   "source": [
    "for links in journal.find_all('a',class_=\"sc-5smygv-0 fIXTHm\",href=True):\n",
    "    paper_url.append(links['href'])\n",
    "len(paper_url)\n"
   ]
  },
  {
   "cell_type": "markdown",
   "id": "fc1ef279",
   "metadata": {},
   "source": [
    "#DataFrame"
   ]
  },
  {
   "cell_type": "code",
   "execution_count": 389,
   "id": "91624687",
   "metadata": {},
   "outputs": [
    {
     "data": {
      "text/html": [
       "<div>\n",
       "<style scoped>\n",
       "    .dataframe tbody tr th:only-of-type {\n",
       "        vertical-align: middle;\n",
       "    }\n",
       "\n",
       "    .dataframe tbody tr th {\n",
       "        vertical-align: top;\n",
       "    }\n",
       "\n",
       "    .dataframe thead th {\n",
       "        text-align: right;\n",
       "    }\n",
       "</style>\n",
       "<table border=\"1\" class=\"dataframe\">\n",
       "  <thead>\n",
       "    <tr style=\"text-align: right;\">\n",
       "      <th></th>\n",
       "      <th>Paper Title</th>\n",
       "      <th>Authors</th>\n",
       "      <th>Published Date</th>\n",
       "      <th>Paper URL</th>\n",
       "    </tr>\n",
       "  </thead>\n",
       "  <tbody>\n",
       "    <tr>\n",
       "      <th>0</th>\n",
       "      <td>Reward is enough</td>\n",
       "      <td>David Silver, Satinder Singh, Doina Precup, Ri...</td>\n",
       "      <td>October 2021</td>\n",
       "      <td>https://www.sciencedirect.com/science/article/...</td>\n",
       "    </tr>\n",
       "    <tr>\n",
       "      <th>1</th>\n",
       "      <td>Explanation in artificial intelligence: Insigh...</td>\n",
       "      <td>Tim Miller</td>\n",
       "      <td>February 2019</td>\n",
       "      <td>https://www.sciencedirect.com/science/article/...</td>\n",
       "    </tr>\n",
       "    <tr>\n",
       "      <th>2</th>\n",
       "      <td>Creativity and artificial intelligence</td>\n",
       "      <td>Margaret A. Boden</td>\n",
       "      <td>August 1998</td>\n",
       "      <td>https://www.sciencedirect.com/science/article/...</td>\n",
       "    </tr>\n",
       "    <tr>\n",
       "      <th>3</th>\n",
       "      <td>Conflict-based search for optimal multi-agent ...</td>\n",
       "      <td>Guni Sharon, Roni Stern, Ariel Felner, Nathan ...</td>\n",
       "      <td>February 2015</td>\n",
       "      <td>https://www.sciencedirect.com/science/article/...</td>\n",
       "    </tr>\n",
       "    <tr>\n",
       "      <th>4</th>\n",
       "      <td>Knowledge graphs as tools for explainable mach...</td>\n",
       "      <td>Ilaria Tiddi, Stefan Schlobach</td>\n",
       "      <td>January 2022</td>\n",
       "      <td>https://www.sciencedirect.com/science/article/...</td>\n",
       "    </tr>\n",
       "    <tr>\n",
       "      <th>5</th>\n",
       "      <td>Law and logic: A review from an argumentation ...</td>\n",
       "      <td>Henry Prakken, Giovanni Sartor</td>\n",
       "      <td>October 2015</td>\n",
       "      <td>https://www.sciencedirect.com/science/article/...</td>\n",
       "    </tr>\n",
       "    <tr>\n",
       "      <th>6</th>\n",
       "      <td>Between MDPs and semi-MDPs: A framework for te...</td>\n",
       "      <td>Richard S. Sutton, Doina Precup, Satinder Singh</td>\n",
       "      <td>August 1999</td>\n",
       "      <td>https://www.sciencedirect.com/science/article/...</td>\n",
       "    </tr>\n",
       "    <tr>\n",
       "      <th>7</th>\n",
       "      <td>Explaining individual predictions when feature...</td>\n",
       "      <td>Kjersti Aas, Martin Jullum, Anders Løland</td>\n",
       "      <td>September 2021</td>\n",
       "      <td>https://www.sciencedirect.com/science/article/...</td>\n",
       "    </tr>\n",
       "    <tr>\n",
       "      <th>8</th>\n",
       "      <td>Multiple object tracking: A literature review</td>\n",
       "      <td>Wenhan Luo, Junliang Xing and 4 more</td>\n",
       "      <td>April 2021</td>\n",
       "      <td>https://www.sciencedirect.com/science/article/...</td>\n",
       "    </tr>\n",
       "    <tr>\n",
       "      <th>9</th>\n",
       "      <td>A survey of inverse reinforcement learning: Ch...</td>\n",
       "      <td>Saurabh Arora, Prashant Doshi</td>\n",
       "      <td>August 2021</td>\n",
       "      <td>https://www.sciencedirect.com/science/article/...</td>\n",
       "    </tr>\n",
       "    <tr>\n",
       "      <th>10</th>\n",
       "      <td>Evaluating XAI: A comparison of rule-based and...</td>\n",
       "      <td>Jasper van der Waa, Elisabeth Nieuwburg, Anita...</td>\n",
       "      <td>February 2021</td>\n",
       "      <td>https://www.sciencedirect.com/science/article/...</td>\n",
       "    </tr>\n",
       "    <tr>\n",
       "      <th>11</th>\n",
       "      <td>Explainable AI tools for legal reasoning about...</td>\n",
       "      <td>Joe Collenette, Katie Atkinson, Trevor Bench-C...</td>\n",
       "      <td>April 2023</td>\n",
       "      <td>https://www.sciencedirect.com/science/article/...</td>\n",
       "    </tr>\n",
       "    <tr>\n",
       "      <th>12</th>\n",
       "      <td>Hard choices in artificial intelligence</td>\n",
       "      <td>Roel Dobbe, Thomas Krendl Gilbert, Yonatan Mintz</td>\n",
       "      <td>November 2021</td>\n",
       "      <td>https://www.sciencedirect.com/science/article/...</td>\n",
       "    </tr>\n",
       "    <tr>\n",
       "      <th>13</th>\n",
       "      <td>Assessing the communication gap between AI mod...</td>\n",
       "      <td>Oskar Wysocki, Jessica Katharine Davies and 5 ...</td>\n",
       "      <td>March 2023</td>\n",
       "      <td>https://www.sciencedirect.com/science/article/...</td>\n",
       "    </tr>\n",
       "    <tr>\n",
       "      <th>14</th>\n",
       "      <td>Explaining black-box classifiers using post-ho...</td>\n",
       "      <td>Eoin M. Kenny, Courtney Ford, Molly Quinn, Mar...</td>\n",
       "      <td>May 2021</td>\n",
       "      <td>https://www.sciencedirect.com/science/article/...</td>\n",
       "    </tr>\n",
       "    <tr>\n",
       "      <th>15</th>\n",
       "      <td>The Hanabi challenge: A new frontier for AI re...</td>\n",
       "      <td>Nolan Bard, Jakob N. Foerster and 13 more</td>\n",
       "      <td>March 2020</td>\n",
       "      <td>https://www.sciencedirect.com/science/article/...</td>\n",
       "    </tr>\n",
       "    <tr>\n",
       "      <th>16</th>\n",
       "      <td>Wrappers for feature subset selection</td>\n",
       "      <td>Ron Kohavi, George H. John</td>\n",
       "      <td>December 1997</td>\n",
       "      <td>https://www.sciencedirect.com/science/article/...</td>\n",
       "    </tr>\n",
       "    <tr>\n",
       "      <th>17</th>\n",
       "      <td>Artificial cognition for social human–robot in...</td>\n",
       "      <td>Séverin Lemaignan, Mathieu Warnier and 3 more</td>\n",
       "      <td>June 2017</td>\n",
       "      <td>https://www.sciencedirect.com/science/article/...</td>\n",
       "    </tr>\n",
       "    <tr>\n",
       "      <th>18</th>\n",
       "      <td>A review of possible effects of cognitive bias...</td>\n",
       "      <td>Tomáš Kliegr, Štěpán Bahník, Johannes Fürnkranz</td>\n",
       "      <td>June 2021</td>\n",
       "      <td>https://www.sciencedirect.com/science/article/...</td>\n",
       "    </tr>\n",
       "    <tr>\n",
       "      <th>19</th>\n",
       "      <td>The multifaceted impact of Ada Lovelace in the...</td>\n",
       "      <td>Luigia Carlucci Aiello</td>\n",
       "      <td>June 2016</td>\n",
       "      <td>https://www.sciencedirect.com/science/article/...</td>\n",
       "    </tr>\n",
       "    <tr>\n",
       "      <th>20</th>\n",
       "      <td>Robot ethics: Mapping the issues for a mechani...</td>\n",
       "      <td>Patrick Lin, Keith Abney, George Bekey</td>\n",
       "      <td>April 2011</td>\n",
       "      <td>https://www.sciencedirect.com/science/article/...</td>\n",
       "    </tr>\n",
       "    <tr>\n",
       "      <th>21</th>\n",
       "      <td>Reward (Mis)design for autonomous driving</td>\n",
       "      <td>W. Bradley Knox, Alessandro Allievi and 3 more</td>\n",
       "      <td>March 2023</td>\n",
       "      <td>https://www.sciencedirect.com/science/article/...</td>\n",
       "    </tr>\n",
       "    <tr>\n",
       "      <th>22</th>\n",
       "      <td>Planning and acting in partially observable st...</td>\n",
       "      <td>Leslie Pack Kaelbling, Michael L. Littman, Ant...</td>\n",
       "      <td>May 1998</td>\n",
       "      <td>https://www.sciencedirect.com/science/article/...</td>\n",
       "    </tr>\n",
       "    <tr>\n",
       "      <th>23</th>\n",
       "      <td>What do we want from Explainable Artificial In...</td>\n",
       "      <td>Markus Langer, Daniel Oster and 6 more</td>\n",
       "      <td>July 2021</td>\n",
       "      <td>https://www.sciencedirect.com/science/article/...</td>\n",
       "    </tr>\n",
       "  </tbody>\n",
       "</table>\n",
       "</div>"
      ],
      "text/plain": [
       "                                          Paper Title  \\\n",
       "0                                    Reward is enough   \n",
       "1   Explanation in artificial intelligence: Insigh...   \n",
       "2              Creativity and artificial intelligence   \n",
       "3   Conflict-based search for optimal multi-agent ...   \n",
       "4   Knowledge graphs as tools for explainable mach...   \n",
       "5   Law and logic: A review from an argumentation ...   \n",
       "6   Between MDPs and semi-MDPs: A framework for te...   \n",
       "7   Explaining individual predictions when feature...   \n",
       "8       Multiple object tracking: A literature review   \n",
       "9   A survey of inverse reinforcement learning: Ch...   \n",
       "10  Evaluating XAI: A comparison of rule-based and...   \n",
       "11  Explainable AI tools for legal reasoning about...   \n",
       "12            Hard choices in artificial intelligence   \n",
       "13  Assessing the communication gap between AI mod...   \n",
       "14  Explaining black-box classifiers using post-ho...   \n",
       "15  The Hanabi challenge: A new frontier for AI re...   \n",
       "16              Wrappers for feature subset selection   \n",
       "17  Artificial cognition for social human–robot in...   \n",
       "18  A review of possible effects of cognitive bias...   \n",
       "19  The multifaceted impact of Ada Lovelace in the...   \n",
       "20  Robot ethics: Mapping the issues for a mechani...   \n",
       "21          Reward (Mis)design for autonomous driving   \n",
       "22  Planning and acting in partially observable st...   \n",
       "23  What do we want from Explainable Artificial In...   \n",
       "\n",
       "                                              Authors  Published Date  \\\n",
       "0   David Silver, Satinder Singh, Doina Precup, Ri...    October 2021   \n",
       "1                                         Tim Miller    February 2019   \n",
       "2                                  Margaret A. Boden      August 1998   \n",
       "3   Guni Sharon, Roni Stern, Ariel Felner, Nathan ...   February 2015   \n",
       "4                     Ilaria Tiddi, Stefan Schlobach     January 2022   \n",
       "5                     Henry Prakken, Giovanni Sartor     October 2015   \n",
       "6    Richard S. Sutton, Doina Precup, Satinder Singh      August 1999   \n",
       "7          Kjersti Aas, Martin Jullum, Anders Løland   September 2021   \n",
       "8                Wenhan Luo, Junliang Xing and 4 more      April 2021   \n",
       "9                      Saurabh Arora, Prashant Doshi      August 2021   \n",
       "10  Jasper van der Waa, Elisabeth Nieuwburg, Anita...   February 2021   \n",
       "11  Joe Collenette, Katie Atkinson, Trevor Bench-C...      April 2023   \n",
       "12  Roel Dobbe, Thomas Krendl Gilbert, Yonatan Mintz    November 2021   \n",
       "13  Oskar Wysocki, Jessica Katharine Davies and 5 ...      March 2023   \n",
       "14  Eoin M. Kenny, Courtney Ford, Molly Quinn, Mar...        May 2021   \n",
       "15          Nolan Bard, Jakob N. Foerster and 13 more      March 2020   \n",
       "16                        Ron Kohavi, George H. John    December 1997   \n",
       "17      Séverin Lemaignan, Mathieu Warnier and 3 more       June 2017   \n",
       "18   Tomáš Kliegr, Štěpán Bahník, Johannes Fürnkranz        June 2021   \n",
       "19                            Luigia Carlucci Aiello        June 2016   \n",
       "20            Patrick Lin, Keith Abney, George Bekey       April 2011   \n",
       "21     W. Bradley Knox, Alessandro Allievi and 3 more      March 2023   \n",
       "22  Leslie Pack Kaelbling, Michael L. Littman, Ant...        May 1998   \n",
       "23             Markus Langer, Daniel Oster and 6 more       July 2021   \n",
       "\n",
       "                                            Paper URL  \n",
       "0   https://www.sciencedirect.com/science/article/...  \n",
       "1   https://www.sciencedirect.com/science/article/...  \n",
       "2   https://www.sciencedirect.com/science/article/...  \n",
       "3   https://www.sciencedirect.com/science/article/...  \n",
       "4   https://www.sciencedirect.com/science/article/...  \n",
       "5   https://www.sciencedirect.com/science/article/...  \n",
       "6   https://www.sciencedirect.com/science/article/...  \n",
       "7   https://www.sciencedirect.com/science/article/...  \n",
       "8   https://www.sciencedirect.com/science/article/...  \n",
       "9   https://www.sciencedirect.com/science/article/...  \n",
       "10  https://www.sciencedirect.com/science/article/...  \n",
       "11  https://www.sciencedirect.com/science/article/...  \n",
       "12  https://www.sciencedirect.com/science/article/...  \n",
       "13  https://www.sciencedirect.com/science/article/...  \n",
       "14  https://www.sciencedirect.com/science/article/...  \n",
       "15  https://www.sciencedirect.com/science/article/...  \n",
       "16  https://www.sciencedirect.com/science/article/...  \n",
       "17  https://www.sciencedirect.com/science/article/...  \n",
       "18  https://www.sciencedirect.com/science/article/...  \n",
       "19  https://www.sciencedirect.com/science/article/...  \n",
       "20  https://www.sciencedirect.com/science/article/...  \n",
       "21  https://www.sciencedirect.com/science/article/...  \n",
       "22  https://www.sciencedirect.com/science/article/...  \n",
       "23  https://www.sciencedirect.com/science/article/...  "
      ]
     },
     "execution_count": 389,
     "metadata": {},
     "output_type": "execute_result"
    }
   ],
   "source": [
    "df=pd.DataFrame({'Paper Title':paper_name,'Authors':authors,'Published Date':published_date,'Paper URL':paper_url})\n",
    "df"
   ]
  },
  {
   "cell_type": "code",
   "execution_count": null,
   "id": "b9176f1b",
   "metadata": {},
   "outputs": [],
   "source": []
  }
 ],
 "metadata": {
  "kernelspec": {
   "display_name": "Python 3 (ipykernel)",
   "language": "python",
   "name": "python3"
  },
  "language_info": {
   "codemirror_mode": {
    "name": "ipython",
    "version": 3
   },
   "file_extension": ".py",
   "mimetype": "text/x-python",
   "name": "python",
   "nbconvert_exporter": "python",
   "pygments_lexer": "ipython3",
   "version": "3.9.13"
  }
 },
 "nbformat": 4,
 "nbformat_minor": 5
}
