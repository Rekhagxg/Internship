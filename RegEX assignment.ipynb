{
 "cells": [
  {
   "cell_type": "markdown",
   "id": "71618704",
   "metadata": {},
   "source": [
    "Question 1: Python program to check that a string contains only a certain set of characters (in this case a-z, A-Z, and 0-9)."
   ]
  },
  {
   "cell_type": "code",
   "execution_count": 1,
   "id": "f2742396",
   "metadata": {},
   "outputs": [
    {
     "name": "stdout",
     "output_type": "stream",
     "text": [
      "True\n",
      "False\n"
     ]
    }
   ],
   "source": [
    "import re\n",
    "\n",
    "def check_string_characters(string):\n",
    "    pattern = r'^[a-zA-Z0-9]+$'\n",
    "    if re.match(pattern, string):\n",
    "        return True\n",
    "    else:\n",
    "        return False\n",
    "\n",
    "# Example usage\n",
    "print(check_string_characters(\"abcXYZ123\"))  # True\n",
    "print(check_string_characters(\"abc@XYZ123\"))  # False\n"
   ]
  },
  {
   "cell_type": "markdown",
   "id": "f88e58b4",
   "metadata": {},
   "source": [
    "Question 2: Function in Python that matches a string that has an 'a' followed by zero or more 'b's."
   ]
  },
  {
   "cell_type": "code",
   "execution_count": 2,
   "id": "4d0abb7e",
   "metadata": {},
   "outputs": [
    {
     "name": "stdout",
     "output_type": "stream",
     "text": [
      "True\n",
      "True\n"
     ]
    }
   ],
   "source": [
    "import re\n",
    "\n",
    "def match_a_followed_by_b(string):\n",
    "    pattern = r'ab*'\n",
    "    if re.match(pattern, string):\n",
    "        return True\n",
    "    else:\n",
    "        return False\n",
    "\n",
    "# Example usage\n",
    "print(match_a_followed_by_b(\"ab\"))  # True\n",
    "print(match_a_followed_by_b(\"ac\"))  # False\n"
   ]
  },
  {
   "cell_type": "markdown",
   "id": "ea58e6b6",
   "metadata": {},
   "source": [
    "Question 3: Function in Python that matches a string that has an 'a' followed by one or more 'b's."
   ]
  },
  {
   "cell_type": "code",
   "execution_count": 3,
   "id": "fcca151d",
   "metadata": {},
   "outputs": [
    {
     "name": "stdout",
     "output_type": "stream",
     "text": [
      "True\n",
      "False\n"
     ]
    }
   ],
   "source": [
    "import re\n",
    "\n",
    "def match_a_followed_by_one_or_more_b(string):\n",
    "    pattern = r'ab+'\n",
    "    if re.match(pattern, string):\n",
    "        return True\n",
    "    else:\n",
    "        return False\n",
    "\n",
    "# Example usage\n",
    "print(match_a_followed_by_one_or_more_b(\"ab\"))  # True\n",
    "print(match_a_followed_by_one_or_more_b(\"ac\"))  # False\n"
   ]
  },
  {
   "cell_type": "markdown",
   "id": "ff4b9aeb",
   "metadata": {},
   "source": [
    "Question 4: Function in Python using RegEx that matches a string that has an 'a' followed by zero or one 'b"
   ]
  },
  {
   "cell_type": "code",
   "execution_count": 4,
   "id": "bdc8133d",
   "metadata": {},
   "outputs": [
    {
     "name": "stdout",
     "output_type": "stream",
     "text": [
      "True\n",
      "True\n",
      "True\n"
     ]
    }
   ],
   "source": [
    "import re\n",
    "\n",
    "def match_a_followed_by_zero_or_one_b(string):\n",
    "    pattern = r'ab?'\n",
    "    if re.match(pattern, string):\n",
    "        return True\n",
    "    else:\n",
    "        return False\n",
    "\n",
    "# Example usage\n",
    "print(match_a_followed_by_zero_or_one_b(\"ab\"))  # True\n",
    "print(match_a_followed_by_zero_or_one_b(\"ac\"))  # True\n",
    "print(match_a_followed_by_zero_or_one_b(\"abc\"))  # False\n"
   ]
  },
  {
   "cell_type": "markdown",
   "id": "c9d1f97c",
   "metadata": {},
   "source": [
    "Question 5: Python program that matches a string that has an 'a' followed by three 'b's."
   ]
  },
  {
   "cell_type": "code",
   "execution_count": 5,
   "id": "e6a1385b",
   "metadata": {},
   "outputs": [
    {
     "name": "stdout",
     "output_type": "stream",
     "text": [
      "True\n",
      "True\n"
     ]
    }
   ],
   "source": [
    "import re\n",
    "\n",
    "def match_a_followed_by_three_b(string):\n",
    "    pattern = r'ab{3}'\n",
    "    if re.search(pattern, string):\n",
    "        return True\n",
    "    else:\n",
    "        return False\n",
    "\n",
    "# Example usage\n",
    "print(match_a_followed_by_three_b(\"abbb\"))  # True\n",
    "print(match_a_followed_by_three_b(\"abbbb\"))  # False\n"
   ]
  },
  {
   "cell_type": "markdown",
   "id": "1c744a6b",
   "metadata": {},
   "source": [
    "Question 6: Regular expression in Python to split a string into uppercase letters."
   ]
  },
  {
   "cell_type": "code",
   "execution_count": 6,
   "id": "66a254cd",
   "metadata": {},
   "outputs": [
    {
     "name": "stdout",
     "output_type": "stream",
     "text": [
      "['Importance', 'Of', 'Regular', 'Expressions', 'In', 'Python']\n"
     ]
    }
   ],
   "source": [
    "import re\n",
    "\n",
    "def split_string_into_uppercase(string):\n",
    "    pattern = r'[A-Z][a-z]*'\n",
    "    return re.findall(pattern, string)\n",
    "\n",
    "# Example usage\n",
    "text = \"ImportanceOfRegularExpressionsInPython\"\n",
    "print(split_string_into_uppercase(text))\n",
    "# Output: ['Importance', 'Of', 'Regular', 'Expressions', 'In', 'Python']\n"
   ]
  },
  {
   "cell_type": "markdown",
   "id": "9c6d29f1",
   "metadata": {},
   "source": [
    "Question 7: Python program that matches a string that has an 'a' followed by two to three 'b's"
   ]
  },
  {
   "cell_type": "code",
   "execution_count": 7,
   "id": "65486df9",
   "metadata": {},
   "outputs": [
    {
     "name": "stdout",
     "output_type": "stream",
     "text": [
      "True\n",
      "True\n",
      "True\n"
     ]
    }
   ],
   "source": [
    "import re\n",
    "\n",
    "def match_a_followed_by_two_to_three_b(string):\n",
    "    pattern = r'ab{2,3}'\n",
    "    if re.search(pattern, string):\n",
    "        return True\n",
    "    else:\n",
    "        return False\n",
    "\n",
    "# Example usage\n",
    "print(match_a_followed_by_two_to_three_b(\"abb\"))  # True\n",
    "print(match_a_followed_by_two_to_three_b(\"abbb\"))  # True\n",
    "print(match_a_followed_by_two_to_three_b(\"abbbb\"))  # False\n"
   ]
  },
  {
   "cell_type": "markdown",
   "id": "1a51d011",
   "metadata": {},
   "source": [
    "Question 8: Python program to find sequences of lowercase letters joined with an underscore."
   ]
  },
  {
   "cell_type": "code",
   "execution_count": 9,
   "id": "1e622554",
   "metadata": {},
   "outputs": [
    {
     "name": "stdout",
     "output_type": "stream",
     "text": [
      "['his_is', 'a_test', 'string_with', 'lowercase_words']\n"
     ]
    }
   ],
   "source": [
    "import re\n",
    "\n",
    "def find_lowercase_with_underscore(string):\n",
    "    pattern = r'[a-z]+_[a-z]+'\n",
    "    return re.findall(pattern, string)\n",
    "\n",
    "# Example usage\n",
    "text = \"This_is_a_test_string_with_lowercase_words\"\n",
    "print(find_lowercase_with_underscore(text))\n",
    "\n"
   ]
  },
  {
   "cell_type": "markdown",
   "id": "bd12cd44",
   "metadata": {},
   "source": [
    "Question 9: Python program that matches a string that has an 'a' followed by anything, ending in 'b'."
   ]
  },
  {
   "cell_type": "code",
   "execution_count": 10,
   "id": "78a36d3b",
   "metadata": {},
   "outputs": [
    {
     "name": "stdout",
     "output_type": "stream",
     "text": [
      "True\n",
      "False\n",
      "False\n"
     ]
    }
   ],
   "source": [
    "import re\n",
    "\n",
    "def match_a_followed_by_anything_ending_with_b(string):\n",
    "    pattern = r'a.*b$'\n",
    "    if re.search(pattern, string):\n",
    "        return True\n",
    "    else:\n",
    "        return False\n",
    "\n",
    "# Example usage\n",
    "print(match_a_followed_by_anything_ending_with_b(\"acb\"))  # True\n",
    "print(match_a_followed_by_anything_ending_with_b(\"acbd\"))  # True\n",
    "print(match_a_followed_by_anything_ending_with_b(\"ac\"))  # False\n"
   ]
  },
  {
   "cell_type": "markdown",
   "id": "5a610f6b",
   "metadata": {},
   "source": [
    "Question 10: Python program that matches a word at the beginning of a string"
   ]
  },
  {
   "cell_type": "code",
   "execution_count": 11,
   "id": "1772b6eb",
   "metadata": {},
   "outputs": [
    {
     "name": "stdout",
     "output_type": "stream",
     "text": [
      "True\n",
      "False\n"
     ]
    }
   ],
   "source": [
    "import re\n",
    "\n",
    "def match_word_at_beginning(string, word):\n",
    "    pattern = r'^' + word\n",
    "    if re.search(pattern, string):\n",
    "        return True\n",
    "    else:\n",
    "        return False\n",
    "\n",
    "# Example usage\n",
    "print(match_word_at_beginning(\"Hello, world!\", \"Hello\"))  # True\n",
    "print(match_word_at_beginning(\"Hello, world!\", \"world\"))  # False\n"
   ]
  },
  {
   "cell_type": "markdown",
   "id": "94b646ea",
   "metadata": {},
   "source": [
    "Question 11: Python program to match a string that contains only upper and lowercase letters, numbers, and underscores."
   ]
  },
  {
   "cell_type": "code",
   "execution_count": 12,
   "id": "3385e002",
   "metadata": {},
   "outputs": [
    {
     "name": "stdout",
     "output_type": "stream",
     "text": [
      "True\n",
      "False\n"
     ]
    }
   ],
   "source": [
    "import re\n",
    "\n",
    "def match_uppercase_lowercase_numbers_underscore(string):\n",
    "    pattern = r'^[a-zA-Z0-9_]+$'\n",
    "    if re.match(pattern, string):\n",
    "        return True\n",
    "    else:\n",
    "        return False\n",
    "\n",
    "# Example usage\n",
    "print(match_uppercase_lowercase_numbers_underscore(\"Hello123\"))  # True\n",
    "print(match_uppercase_lowercase_numbers_underscore(\"Hello$123\"))  # False\n"
   ]
  },
  {
   "cell_type": "markdown",
   "id": "15bf799b",
   "metadata": {},
   "source": [
    "Question 12: Python program where a string will start with a specific number."
   ]
  },
  {
   "cell_type": "code",
   "execution_count": 13,
   "id": "e3106aa2",
   "metadata": {},
   "outputs": [
    {
     "name": "stdout",
     "output_type": "stream",
     "text": [
      "True\n",
      "False\n"
     ]
    }
   ],
   "source": [
    "import re\n",
    "\n",
    "def string_starts_with_number(string, number):\n",
    "    pattern = r'^' + str(number)\n",
    "    if re.match(pattern, string):\n",
    "        return True\n",
    "    else:\n",
    "        return False\n",
    "\n",
    "# Example usage\n",
    "print(string_starts_with_number(\"12345\", 1))  # True\n",
    "print(string_starts_with_number(\"56789\", 1))  # False\n"
   ]
  },
  {
   "cell_type": "markdown",
   "id": "f0f835be",
   "metadata": {},
   "source": [
    "Question 13: Python program to remove leading zeros from an IP address."
   ]
  },
  {
   "cell_type": "code",
   "execution_count": 14,
   "id": "3b36cdcc",
   "metadata": {},
   "outputs": [
    {
     "name": "stdout",
     "output_type": "stream",
     "text": [
      "192.168.1.1\n"
     ]
    }
   ],
   "source": [
    "import re\n",
    "\n",
    "def remove_leading_zeros_from_ip(ip_address):\n",
    "    pattern = r'\\b0+(\\d+)'\n",
    "    return re.sub(pattern, r'\\1', ip_address)\n",
    "\n",
    "# Example usage\n",
    "ip = \"192.168.001.001\"\n",
    "print(remove_leading_zeros_from_ip(ip))\n",
    "# Output: 192.168.1.1\n"
   ]
  },
  {
   "cell_type": "markdown",
   "id": "40d4b074",
   "metadata": {},
   "source": [
    "Question 14: Regular expression in Python to match a date string in the form of Month name followed by day number and year stored in a text file.\n",
    "\n",
    "Sample text : ' On August 15th 1947 that India was declared independent from British colonialism, and the reins of control were handed over to the leaders of the Country’.\n",
    "Output- August 15th 1947\n",
    "Hint- Use re.match() method here\n"
   ]
  },
  {
   "cell_type": "code",
   "execution_count": 19,
   "id": "742cc812",
   "metadata": {},
   "outputs": [
    {
     "name": "stdout",
     "output_type": "stream",
     "text": [
      "No date string found.\n"
     ]
    }
   ],
   "source": [
    "import re\n",
    "\n",
    "text = \"On August 15th 1947 that India was declared independent from British colonialism, and the reins of control were handed over to the leaders of the Country.\"\n",
    "\n",
    "pattern = r'\\b[A-Z][a-z]+\\s\\d{1,2}(?:st|nd|rd|th)?\\s\\d{4}\\b'\n",
    "match = re.match(pattern, text)\n",
    "if match:\n",
    "    date_string = match.group()\n",
    "    print(date_string)\n",
    "else:\n",
    "    print(\"No date string found.\")\n"
   ]
  },
  {
   "cell_type": "markdown",
   "id": "33e48d37",
   "metadata": {},
   "source": [
    "Question 15- Write a Python program to search some literals strings in a string. Go to the editor\n",
    "Sample text : 'The quick brown fox jumps over the lazy dog.'\n",
    "Searched words : 'fox', 'dog', 'horse'"
   ]
  },
  {
   "cell_type": "code",
   "execution_count": 18,
   "id": "ed81ed2c",
   "metadata": {},
   "outputs": [
    {
     "name": "stdout",
     "output_type": "stream",
     "text": [
      "['fox', 'dog']\n"
     ]
    }
   ],
   "source": [
    "def search_literals(text, words):\n",
    "    found_words = []\n",
    "    for word in words:\n",
    "        if word in text:\n",
    "            found_words.append(word)\n",
    "    return found_words\n",
    "\n",
    "sample_text = 'The quick brown fox jumps over the lazy dog.'\n",
    "searched_words = ['fox', 'dog', 'horse']\n",
    "\n",
    "found_words = search_literals(sample_text, searched_words)\n",
    "print(found_words)\n"
   ]
  },
  {
   "cell_type": "markdown",
   "id": "7ec560cf",
   "metadata": {},
   "source": [
    "Question 16- Write a Python program to search a literals string in a string and also find the location within the original string where the pattern occurs\n",
    "Sample text : 'The quick brown fox jumps over the lazy dog.'\n",
    "Searched words : 'fox'\n"
   ]
  },
  {
   "cell_type": "code",
   "execution_count": 20,
   "id": "46b1a3aa",
   "metadata": {},
   "outputs": [
    {
     "name": "stdout",
     "output_type": "stream",
     "text": [
      "[('fox', 16)]\n"
     ]
    }
   ],
   "source": [
    "import re\n",
    "\n",
    "def search_literal_with_location(text, word):\n",
    "    pattern = re.compile(re.escape(word))\n",
    "    matches = pattern.finditer(text)\n",
    "    found_locations = []\n",
    "    for match in matches:\n",
    "        found_locations.append((match.group(), match.start()))\n",
    "    return found_locations\n",
    "\n",
    "sample_text = 'The quick brown fox jumps over the lazy dog.'\n",
    "searched_word = 'fox'\n",
    "\n",
    "found_locations = search_literal_with_location(sample_text, searched_word)\n",
    "print(found_locations)\n"
   ]
  },
  {
   "cell_type": "markdown",
   "id": "de112408",
   "metadata": {},
   "source": [
    "Question 17- Write a Python program to find the substrings within a string.\n",
    "Sample text : 'Python exercises, PHP exercises, C# exercises'\n",
    "Pattern : 'exercises'.\n"
   ]
  },
  {
   "cell_type": "code",
   "execution_count": 21,
   "id": "f8f76235",
   "metadata": {},
   "outputs": [
    {
     "name": "stdout",
     "output_type": "stream",
     "text": [
      "['exercises', 'exercises', 'exercises']\n"
     ]
    }
   ],
   "source": [
    "import re\n",
    "\n",
    "def find_substrings(text, pattern):\n",
    "    substrings = re.findall(pattern, text)\n",
    "    return substrings\n",
    "\n",
    "sample_text = 'Python exercises, PHP exercises, C# exercises'\n",
    "pattern = 'exercises'\n",
    "\n",
    "found_substrings = find_substrings(sample_text, pattern)\n",
    "print(found_substrings)\n"
   ]
  },
  {
   "cell_type": "markdown",
   "id": "02ccbb61",
   "metadata": {},
   "source": [
    "Question 18- Write a Python program to find the occurrence and position of the substrings within a string."
   ]
  },
  {
   "cell_type": "code",
   "execution_count": 22,
   "id": "834052a5",
   "metadata": {},
   "outputs": [
    {
     "name": "stdout",
     "output_type": "stream",
     "text": [
      "Substring: exercises, Position: 7\n",
      "Substring: exercises, Position: 22\n",
      "Substring: exercises, Position: 36\n"
     ]
    }
   ],
   "source": [
    "def find_occurrence_and_position(text, pattern):\n",
    "    occurrences = []\n",
    "    start = 0\n",
    "    while True:\n",
    "        found = text.find(pattern, start)\n",
    "        if found == -1:\n",
    "            break\n",
    "        occurrences.append((pattern, found))\n",
    "        start = found + 1\n",
    "    return occurrences\n",
    "\n",
    "sample_text = 'Python exercises, PHP exercises, C# exercises'\n",
    "pattern = 'exercises'\n",
    "\n",
    "found_occurrences = find_occurrence_and_position(sample_text, pattern)\n",
    "for occurrence in found_occurrences:\n",
    "    substring, position = occurrence\n",
    "    print(f\"Substring: {substring}, Position: {position}\")\n"
   ]
  },
  {
   "cell_type": "markdown",
   "id": "37db2b49",
   "metadata": {},
   "source": [
    "Question 19: Here's a Python program to convert a date from the format yyyy-mm-dd to dd-mm-yyyy:"
   ]
  },
  {
   "cell_type": "code",
   "execution_count": 23,
   "id": "0d705da8",
   "metadata": {},
   "outputs": [
    {
     "name": "stdout",
     "output_type": "stream",
     "text": [
      "11-07-2023\n"
     ]
    }
   ],
   "source": [
    "def convert_date_format(date):\n",
    "    parts = date.split('-')\n",
    "    if len(parts) == 3:\n",
    "        return f\"{parts[2]}-{parts[1]}-{parts[0]}\"\n",
    "    else:\n",
    "        return \"Invalid date format\"\n",
    "\n",
    "date = '2023-07-11'\n",
    "converted_date = convert_date_format(date)\n",
    "print(converted_date)\n"
   ]
  },
  {
   "cell_type": "markdown",
   "id": "fe6ed002",
   "metadata": {},
   "source": [
    "Question 20: Here's a Python program to find all words starting with 'a' or 'e' in a given string:"
   ]
  },
  {
   "cell_type": "code",
   "execution_count": 24,
   "id": "33cf1c3c",
   "metadata": {},
   "outputs": [
    {
     "name": "stdout",
     "output_type": "stream",
     "text": [
      "['An', 'apple', 'away', 'Eating', 'eggs']\n"
     ]
    }
   ],
   "source": [
    "import re\n",
    "\n",
    "def find_words_starting_with_a_or_e(text):\n",
    "    pattern = r'\\b[aAeE]\\w+\\b'\n",
    "    found_words = re.findall(pattern, text)\n",
    "    return found_words\n",
    "\n",
    "sample_text = 'An apple a day keeps the doctor away. Eating eggs is healthy.'\n",
    "found_words = find_words_starting_with_a_or_e(sample_text)\n",
    "print(found_words)\n"
   ]
  },
  {
   "cell_type": "markdown",
   "id": "161e0e90",
   "metadata": {},
   "source": [
    "Question 21: Here's a Python program to separate and print the numbers and their positions in a given string:"
   ]
  },
  {
   "cell_type": "code",
   "execution_count": 25,
   "id": "4ef00dd2",
   "metadata": {},
   "outputs": [
    {
     "name": "stdout",
     "output_type": "stream",
     "text": [
      "Number: 123, Position: 4\n",
      "Number: 456, Position: 12\n",
      "Number: 789, Position: 20\n"
     ]
    }
   ],
   "source": [
    "import re\n",
    "\n",
    "def separate_and_print_numbers(string):\n",
    "    pattern = r'\\d+'\n",
    "    numbers = re.findall(pattern, string)\n",
    "    for number in numbers:\n",
    "        position = string.index(number)\n",
    "        print(f\"Number: {number}, Position: {position}\")\n",
    "\n",
    "sample_string = \"abc 123 def 456 ghi 789\"\n",
    "separate_and_print_numbers(sample_string)\n"
   ]
  },
  {
   "cell_type": "markdown",
   "id": "adf63e66",
   "metadata": {},
   "source": [
    "Question 22: Here's a Python program using regular expressions to extract the maximum numeric value from a string:"
   ]
  },
  {
   "cell_type": "code",
   "execution_count": 26,
   "id": "b475fcde",
   "metadata": {},
   "outputs": [
    {
     "name": "stdout",
     "output_type": "stream",
     "text": [
      "100\n"
     ]
    }
   ],
   "source": [
    "import re\n",
    "\n",
    "def extract_maximum_numeric_value(string):\n",
    "    numbers = re.findall(r'\\d+', string)\n",
    "    if numbers:\n",
    "        max_number = max(map(int, numbers))\n",
    "        return max_number\n",
    "    else:\n",
    "        return None\n",
    "\n",
    "sample_string = \"The maximum number is 42, but there are also 10, 5, and 100.\"\n",
    "maximum_numeric_value = extract_maximum_numeric_value(sample_string)\n",
    "print(maximum_numeric_value)\n"
   ]
  },
  {
   "cell_type": "markdown",
   "id": "7e3c23a1",
   "metadata": {},
   "source": [
    "Question 23: Here's a Python program that uses regex to put spaces between words starting with capital letters:"
   ]
  },
  {
   "cell_type": "code",
   "execution_count": 27,
   "id": "fb4ed6f4",
   "metadata": {},
   "outputs": [
    {
     "name": "stdout",
     "output_type": "stream",
     "text": [
      "This Is Camel Case\n"
     ]
    }
   ],
   "source": [
    "import re\n",
    "\n",
    "def add_spaces_between_capital_words(string):\n",
    "    modified_string = re.sub(r'([a-z])([A-Z])', r'\\1 \\2', string)\n",
    "    return modified_string\n",
    "\n",
    "sample_string = \"ThisIsCamelCase\"\n",
    "modified_string = add_spaces_between_capital_words(sample_string)\n",
    "print(modified_string)\n"
   ]
  },
  {
   "cell_type": "markdown",
   "id": "93f0a61f",
   "metadata": {},
   "source": [
    "Question 24: Here's a Python program using regex to find sequences of one uppercase letter followed by lowercase letters"
   ]
  },
  {
   "cell_type": "code",
   "execution_count": 28,
   "id": "b0ebd068",
   "metadata": {},
   "outputs": [
    {
     "name": "stdout",
     "output_type": "stream",
     "text": [
      "['The', 'Quick', 'Brown', 'Fox', 'Jumps', 'Over', 'The', 'Lazy', 'Dog']\n"
     ]
    }
   ],
   "source": [
    "import re\n",
    "\n",
    "def find_uppercase_lowercase_sequences(string):\n",
    "    pattern = r'[A-Z][a-z]+'\n",
    "    sequences = re.findall(pattern, string)\n",
    "    return sequences\n",
    "\n",
    "sample_string = \"The Quick Brown Fox Jumps Over The Lazy Dog\"\n",
    "found_sequences = find_uppercase_lowercase_sequences(sample_string)\n",
    "print(found_sequences)\n"
   ]
  },
  {
   "cell_type": "markdown",
   "id": "18c94013",
   "metadata": {},
   "source": [
    "Question 25: Here's a Python program to remove duplicate words from a sentence using regular expressions:"
   ]
  },
  {
   "cell_type": "code",
   "execution_count": 29,
   "id": "8caee858",
   "metadata": {},
   "outputs": [
    {
     "name": "stdout",
     "output_type": "stream",
     "text": [
      "This sentence. It is a test sentence to remove duplicate words.\n"
     ]
    }
   ],
   "source": [
    "import re\n",
    "\n",
    "def remove_duplicate_words(sentence):\n",
    "    pattern = r'\\b(\\w+)\\b\\s+(?=.*\\b\\1\\b)'\n",
    "    modified_sentence = re.sub(pattern, '', sentence)\n",
    "    return modified_sentence.strip()\n",
    "\n",
    "sample_sentence = \"This is a test sentence. It is a test sentence to remove duplicate words.\"\n",
    "modified_sentence = remove_duplicate_words(sample_sentence)\n",
    "print(modified_sentence)\n"
   ]
  },
  {
   "cell_type": "markdown",
   "id": "ed191c4c",
   "metadata": {},
   "source": [
    "Question 26: Here's a Python program using regex to accept a string ending with an alphanumeric character:"
   ]
  },
  {
   "cell_type": "code",
   "execution_count": 30,
   "id": "8320616e",
   "metadata": {},
   "outputs": [
    {
     "name": "stdout",
     "output_type": "stream",
     "text": [
      "True\n",
      "True\n"
     ]
    }
   ],
   "source": [
    "import re\n",
    "\n",
    "def accept_string_ending_with_alphanumeric(string):\n",
    "    pattern = r'^.*[a-zA-Z0-9]$'\n",
    "    if re.match(pattern, string):\n",
    "        return True\n",
    "    else:\n",
    "        return False\n",
    "\n",
    "sample_string = \"Hello123\"\n",
    "print(accept_string_ending_with_alphanumeric(sample_string))  # True\n",
    "\n",
    "sample_string = \"Hello!123\"\n",
    "print(accept_string_ending_with_alphanumeric(sample_string))  # False\n"
   ]
  },
  {
   "cell_type": "markdown",
   "id": "c7a6430e",
   "metadata": {},
   "source": [
    "Question 27: Here's a Python program using regex to extract the hashtags from a given text:"
   ]
  },
  {
   "cell_type": "code",
   "execution_count": 31,
   "id": "1cec3c83",
   "metadata": {},
   "outputs": [
    {
     "name": "stdout",
     "output_type": "stream",
     "text": [
      "['#Doltiwal', '#xyzabc', '#Demonetization']\n"
     ]
    }
   ],
   "source": [
    "import re\n",
    "\n",
    "def extract_hashtags(text):\n",
    "    hashtags = re.findall(r'#\\w+', text)\n",
    "    return hashtags\n",
    "\n",
    "sample_text = \"\"\"RT @kapil_kausik: #Doltiwal I mean #xyzabc is \"hurt\" by #Demonetization as the same has rendered USELESS <ed><U+00A0><U+00BD><ed><U+00B1><U+0089> \"acquired funds\" No wo\"\"\"\n",
    "hashtags = extract_hashtags(sample_text)\n",
    "print(hashtags)\n"
   ]
  },
  {
   "cell_type": "markdown",
   "id": "406f2e91",
   "metadata": {},
   "source": [
    "Question 28: Here's a Python program using regex to remove <U+..> like symbols from a given text"
   ]
  },
  {
   "cell_type": "code",
   "execution_count": 32,
   "id": "c34e95c6",
   "metadata": {},
   "outputs": [
    {
     "name": "stdout",
     "output_type": "stream",
     "text": [
      "@Jags123456 Bharat band on 28??<ed><ed>Those who  are protesting #demonetization  are all different party leaders\n"
     ]
    }
   ],
   "source": [
    "import re\n",
    "\n",
    "def remove_symbol(text):\n",
    "    modified_text = re.sub(r'<U\\+\\w+>', '', text)\n",
    "    return modified_text\n",
    "\n",
    "sample_text = \"@Jags123456 Bharat band on 28??<ed><U+00A0><U+00BD><ed><U+00B8><U+0082>Those who  are protesting #demonetization  are all different party leaders\"\n",
    "modified_text = remove_symbol(sample_text)\n",
    "print(modified_text)\n"
   ]
  },
  {
   "cell_type": "markdown",
   "id": "cb08be37",
   "metadata": {},
   "source": [
    "Question 29: Here's a Python program to extract dates from the text stored in a text file:"
   ]
  },
  {
   "cell_type": "code",
   "execution_count": 9,
   "id": "7002ff16",
   "metadata": {},
   "outputs": [
    {
     "name": "stdout",
     "output_type": "stream",
     "text": [
      "['4/07/2023', '5/07/2023']\n"
     ]
    }
   ],
   "source": [
    "import re\n",
    "text='Today is 14/07/2023 and tomorrow is 15/07/2023.'\n",
    "print(re.findall(r'\\d/\\d+/\\d+',text))"
   ]
  },
  {
   "cell_type": "markdown",
   "id": "67259560",
   "metadata": {},
   "source": [
    "Question 30: Here's a Python program to replace all occurrences of a space, comma, or dot with a colon in a given text:"
   ]
  },
  {
   "cell_type": "code",
   "execution_count": 10,
   "id": "025871cd",
   "metadata": {},
   "outputs": [
    {
     "name": "stdout",
     "output_type": "stream",
     "text": [
      "Python:Exercises::program:exercises:\n"
     ]
    }
   ],
   "source": [
    "import re\n",
    "\n",
    "def replace_spaces_commas_dots_with_colon(text):\n",
    "    modified_text = re.sub(r'[ ,.]', ':', text)\n",
    "    return modified_text\n",
    "\n",
    "sample_text = 'Python Exercises, program exercises.'\n",
    "modified_text = replace_spaces_commas_dots_with_colon(sample_text)\n",
    "print(modified_text)\n"
   ]
  },
  {
   "cell_type": "code",
   "execution_count": null,
   "id": "eb4d0949",
   "metadata": {},
   "outputs": [],
   "source": []
  }
 ],
 "metadata": {
  "kernelspec": {
   "display_name": "Python 3 (ipykernel)",
   "language": "python",
   "name": "python3"
  },
  "language_info": {
   "codemirror_mode": {
    "name": "ipython",
    "version": 3
   },
   "file_extension": ".py",
   "mimetype": "text/x-python",
   "name": "python",
   "nbconvert_exporter": "python",
   "pygments_lexer": "ipython3",
   "version": "3.9.13"
  }
 },
 "nbformat": 4,
 "nbformat_minor": 5
}
