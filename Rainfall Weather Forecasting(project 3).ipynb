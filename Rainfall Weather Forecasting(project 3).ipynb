{
 "cells": [
  {
   "cell_type": "markdown",
   "id": "bf0aed5f",
   "metadata": {},
   "source": [
    "# Rainfall Weather Forecasting"
   ]
  },
  {
   "cell_type": "markdown",
   "id": "56224192",
   "metadata": {},
   "source": [
    "Project Description"
   ]
  },
  {
   "cell_type": "markdown",
   "id": "c362742b",
   "metadata": {},
   "source": [
    "Weather forecasting is the application of science and technology to predict the conditions of the atmosphere for a given location and time. Weather forecasts are made by collecting quantitative data about the current state of the atmosphere at a given place and using meteorology to project how the atmosphere will change.\n",
    "Rain Dataset is to predict whether or not it will rain tomorrow. The Dataset contains about 10 years of daily weather observations of different locations in Australia. Here, predict two things:\n",
    " \n",
    "1. Problem Statement: \n",
    "a) Design a predictive model with the use of machine learning algorithms to forecast whether or not it will rain tomorrow.\n",
    "b)  Design a predictive model with the use of machine learning algorithms to predict how much rainfall could be there.\n",
    "\n",
    "\n",
    "Dataset Description:\n",
    "Number of columns: 23\n"
   ]
  },
  {
   "cell_type": "code",
   "execution_count": 67,
   "id": "cb2c116d",
   "metadata": {},
   "outputs": [],
   "source": [
    "import pandas as pd\n",
    "import numpy as np\n",
    "import seaborn as sns\n",
    "import matplotlib.pyplot as plt\n",
    "from sklearn.model_selection import train_test_split\n",
    "from sklearn.preprocessing import LabelEncoder\n",
    "from sklearn.ensemble import RandomForestClassifier, RandomForestRegressor,GradientBoostingClassifier\n",
    "from sklearn.metrics import accuracy_score, classification_report, confusion_matrix\n",
    "from sklearn.metrics import mean_squared_error, mean_absolute_error, r2_score\n",
    "from sklearn.model_selection import cross_val_score\n",
    "from sklearn.model_selection import GridSearchCV\n",
    "from sklearn.preprocessing import StandardScaler\n",
    "from sklearn.metrics import roc_curve, roc_auc_score\n",
    "from sklearn.linear_model import LogisticRegression\n",
    "from sklearn.metrics import precision_recall_curve, auc\n",
    "from sklearn.impute import SimpleImputer\n",
    "\n",
    "\n"
   ]
  },
  {
   "cell_type": "code",
   "execution_count": 108,
   "id": "31b10ad6",
   "metadata": {},
   "outputs": [
    {
     "data": {
      "text/html": [
       "<div>\n",
       "<style scoped>\n",
       "    .dataframe tbody tr th:only-of-type {\n",
       "        vertical-align: middle;\n",
       "    }\n",
       "\n",
       "    .dataframe tbody tr th {\n",
       "        vertical-align: top;\n",
       "    }\n",
       "\n",
       "    .dataframe thead th {\n",
       "        text-align: right;\n",
       "    }\n",
       "</style>\n",
       "<table border=\"1\" class=\"dataframe\">\n",
       "  <thead>\n",
       "    <tr style=\"text-align: right;\">\n",
       "      <th></th>\n",
       "      <th>Date</th>\n",
       "      <th>Location</th>\n",
       "      <th>MinTemp</th>\n",
       "      <th>MaxTemp</th>\n",
       "      <th>Rainfall</th>\n",
       "      <th>Evaporation</th>\n",
       "      <th>Sunshine</th>\n",
       "      <th>WindGustDir</th>\n",
       "      <th>WindGustSpeed</th>\n",
       "      <th>WindDir9am</th>\n",
       "      <th>...</th>\n",
       "      <th>Humidity9am</th>\n",
       "      <th>Humidity3pm</th>\n",
       "      <th>Pressure9am</th>\n",
       "      <th>Pressure3pm</th>\n",
       "      <th>Cloud9am</th>\n",
       "      <th>Cloud3pm</th>\n",
       "      <th>Temp9am</th>\n",
       "      <th>Temp3pm</th>\n",
       "      <th>RainToday</th>\n",
       "      <th>RainTomorrow</th>\n",
       "    </tr>\n",
       "  </thead>\n",
       "  <tbody>\n",
       "    <tr>\n",
       "      <th>0</th>\n",
       "      <td>2008-12-01</td>\n",
       "      <td>Albury</td>\n",
       "      <td>13.4</td>\n",
       "      <td>22.9</td>\n",
       "      <td>0.6</td>\n",
       "      <td>NaN</td>\n",
       "      <td>NaN</td>\n",
       "      <td>W</td>\n",
       "      <td>44.0</td>\n",
       "      <td>W</td>\n",
       "      <td>...</td>\n",
       "      <td>71.0</td>\n",
       "      <td>22.0</td>\n",
       "      <td>1007.7</td>\n",
       "      <td>1007.1</td>\n",
       "      <td>8.0</td>\n",
       "      <td>NaN</td>\n",
       "      <td>16.9</td>\n",
       "      <td>21.8</td>\n",
       "      <td>No</td>\n",
       "      <td>No</td>\n",
       "    </tr>\n",
       "    <tr>\n",
       "      <th>1</th>\n",
       "      <td>2008-12-02</td>\n",
       "      <td>Albury</td>\n",
       "      <td>7.4</td>\n",
       "      <td>25.1</td>\n",
       "      <td>0.0</td>\n",
       "      <td>NaN</td>\n",
       "      <td>NaN</td>\n",
       "      <td>WNW</td>\n",
       "      <td>44.0</td>\n",
       "      <td>NNW</td>\n",
       "      <td>...</td>\n",
       "      <td>44.0</td>\n",
       "      <td>25.0</td>\n",
       "      <td>1010.6</td>\n",
       "      <td>1007.8</td>\n",
       "      <td>NaN</td>\n",
       "      <td>NaN</td>\n",
       "      <td>17.2</td>\n",
       "      <td>24.3</td>\n",
       "      <td>No</td>\n",
       "      <td>No</td>\n",
       "    </tr>\n",
       "    <tr>\n",
       "      <th>2</th>\n",
       "      <td>2008-12-03</td>\n",
       "      <td>Albury</td>\n",
       "      <td>12.9</td>\n",
       "      <td>25.7</td>\n",
       "      <td>0.0</td>\n",
       "      <td>NaN</td>\n",
       "      <td>NaN</td>\n",
       "      <td>WSW</td>\n",
       "      <td>46.0</td>\n",
       "      <td>W</td>\n",
       "      <td>...</td>\n",
       "      <td>38.0</td>\n",
       "      <td>30.0</td>\n",
       "      <td>1007.6</td>\n",
       "      <td>1008.7</td>\n",
       "      <td>NaN</td>\n",
       "      <td>2.0</td>\n",
       "      <td>21.0</td>\n",
       "      <td>23.2</td>\n",
       "      <td>No</td>\n",
       "      <td>No</td>\n",
       "    </tr>\n",
       "    <tr>\n",
       "      <th>3</th>\n",
       "      <td>2008-12-04</td>\n",
       "      <td>Albury</td>\n",
       "      <td>9.2</td>\n",
       "      <td>28.0</td>\n",
       "      <td>0.0</td>\n",
       "      <td>NaN</td>\n",
       "      <td>NaN</td>\n",
       "      <td>NE</td>\n",
       "      <td>24.0</td>\n",
       "      <td>SE</td>\n",
       "      <td>...</td>\n",
       "      <td>45.0</td>\n",
       "      <td>16.0</td>\n",
       "      <td>1017.6</td>\n",
       "      <td>1012.8</td>\n",
       "      <td>NaN</td>\n",
       "      <td>NaN</td>\n",
       "      <td>18.1</td>\n",
       "      <td>26.5</td>\n",
       "      <td>No</td>\n",
       "      <td>No</td>\n",
       "    </tr>\n",
       "    <tr>\n",
       "      <th>4</th>\n",
       "      <td>2008-12-05</td>\n",
       "      <td>Albury</td>\n",
       "      <td>17.5</td>\n",
       "      <td>32.3</td>\n",
       "      <td>1.0</td>\n",
       "      <td>NaN</td>\n",
       "      <td>NaN</td>\n",
       "      <td>W</td>\n",
       "      <td>41.0</td>\n",
       "      <td>ENE</td>\n",
       "      <td>...</td>\n",
       "      <td>82.0</td>\n",
       "      <td>33.0</td>\n",
       "      <td>1010.8</td>\n",
       "      <td>1006.0</td>\n",
       "      <td>7.0</td>\n",
       "      <td>8.0</td>\n",
       "      <td>17.8</td>\n",
       "      <td>29.7</td>\n",
       "      <td>No</td>\n",
       "      <td>No</td>\n",
       "    </tr>\n",
       "    <tr>\n",
       "      <th>...</th>\n",
       "      <td>...</td>\n",
       "      <td>...</td>\n",
       "      <td>...</td>\n",
       "      <td>...</td>\n",
       "      <td>...</td>\n",
       "      <td>...</td>\n",
       "      <td>...</td>\n",
       "      <td>...</td>\n",
       "      <td>...</td>\n",
       "      <td>...</td>\n",
       "      <td>...</td>\n",
       "      <td>...</td>\n",
       "      <td>...</td>\n",
       "      <td>...</td>\n",
       "      <td>...</td>\n",
       "      <td>...</td>\n",
       "      <td>...</td>\n",
       "      <td>...</td>\n",
       "      <td>...</td>\n",
       "      <td>...</td>\n",
       "      <td>...</td>\n",
       "    </tr>\n",
       "    <tr>\n",
       "      <th>8420</th>\n",
       "      <td>2017-06-21</td>\n",
       "      <td>Uluru</td>\n",
       "      <td>2.8</td>\n",
       "      <td>23.4</td>\n",
       "      <td>0.0</td>\n",
       "      <td>NaN</td>\n",
       "      <td>NaN</td>\n",
       "      <td>E</td>\n",
       "      <td>31.0</td>\n",
       "      <td>SE</td>\n",
       "      <td>...</td>\n",
       "      <td>51.0</td>\n",
       "      <td>24.0</td>\n",
       "      <td>1024.6</td>\n",
       "      <td>1020.3</td>\n",
       "      <td>NaN</td>\n",
       "      <td>NaN</td>\n",
       "      <td>10.1</td>\n",
       "      <td>22.4</td>\n",
       "      <td>No</td>\n",
       "      <td>No</td>\n",
       "    </tr>\n",
       "    <tr>\n",
       "      <th>8421</th>\n",
       "      <td>2017-06-22</td>\n",
       "      <td>Uluru</td>\n",
       "      <td>3.6</td>\n",
       "      <td>25.3</td>\n",
       "      <td>0.0</td>\n",
       "      <td>NaN</td>\n",
       "      <td>NaN</td>\n",
       "      <td>NNW</td>\n",
       "      <td>22.0</td>\n",
       "      <td>SE</td>\n",
       "      <td>...</td>\n",
       "      <td>56.0</td>\n",
       "      <td>21.0</td>\n",
       "      <td>1023.5</td>\n",
       "      <td>1019.1</td>\n",
       "      <td>NaN</td>\n",
       "      <td>NaN</td>\n",
       "      <td>10.9</td>\n",
       "      <td>24.5</td>\n",
       "      <td>No</td>\n",
       "      <td>No</td>\n",
       "    </tr>\n",
       "    <tr>\n",
       "      <th>8422</th>\n",
       "      <td>2017-06-23</td>\n",
       "      <td>Uluru</td>\n",
       "      <td>5.4</td>\n",
       "      <td>26.9</td>\n",
       "      <td>0.0</td>\n",
       "      <td>NaN</td>\n",
       "      <td>NaN</td>\n",
       "      <td>N</td>\n",
       "      <td>37.0</td>\n",
       "      <td>SE</td>\n",
       "      <td>...</td>\n",
       "      <td>53.0</td>\n",
       "      <td>24.0</td>\n",
       "      <td>1021.0</td>\n",
       "      <td>1016.8</td>\n",
       "      <td>NaN</td>\n",
       "      <td>NaN</td>\n",
       "      <td>12.5</td>\n",
       "      <td>26.1</td>\n",
       "      <td>No</td>\n",
       "      <td>No</td>\n",
       "    </tr>\n",
       "    <tr>\n",
       "      <th>8423</th>\n",
       "      <td>2017-06-24</td>\n",
       "      <td>Uluru</td>\n",
       "      <td>7.8</td>\n",
       "      <td>27.0</td>\n",
       "      <td>0.0</td>\n",
       "      <td>NaN</td>\n",
       "      <td>NaN</td>\n",
       "      <td>SE</td>\n",
       "      <td>28.0</td>\n",
       "      <td>SSE</td>\n",
       "      <td>...</td>\n",
       "      <td>51.0</td>\n",
       "      <td>24.0</td>\n",
       "      <td>1019.4</td>\n",
       "      <td>1016.5</td>\n",
       "      <td>3.0</td>\n",
       "      <td>2.0</td>\n",
       "      <td>15.1</td>\n",
       "      <td>26.0</td>\n",
       "      <td>No</td>\n",
       "      <td>No</td>\n",
       "    </tr>\n",
       "    <tr>\n",
       "      <th>8424</th>\n",
       "      <td>2017-06-25</td>\n",
       "      <td>Uluru</td>\n",
       "      <td>14.9</td>\n",
       "      <td>NaN</td>\n",
       "      <td>0.0</td>\n",
       "      <td>NaN</td>\n",
       "      <td>NaN</td>\n",
       "      <td>NaN</td>\n",
       "      <td>NaN</td>\n",
       "      <td>ESE</td>\n",
       "      <td>...</td>\n",
       "      <td>62.0</td>\n",
       "      <td>36.0</td>\n",
       "      <td>1020.2</td>\n",
       "      <td>1017.9</td>\n",
       "      <td>8.0</td>\n",
       "      <td>8.0</td>\n",
       "      <td>15.0</td>\n",
       "      <td>20.9</td>\n",
       "      <td>No</td>\n",
       "      <td>NaN</td>\n",
       "    </tr>\n",
       "  </tbody>\n",
       "</table>\n",
       "<p>8425 rows × 23 columns</p>\n",
       "</div>"
      ],
      "text/plain": [
       "            Date Location  MinTemp  MaxTemp  Rainfall  Evaporation  Sunshine  \\\n",
       "0     2008-12-01   Albury     13.4     22.9       0.6          NaN       NaN   \n",
       "1     2008-12-02   Albury      7.4     25.1       0.0          NaN       NaN   \n",
       "2     2008-12-03   Albury     12.9     25.7       0.0          NaN       NaN   \n",
       "3     2008-12-04   Albury      9.2     28.0       0.0          NaN       NaN   \n",
       "4     2008-12-05   Albury     17.5     32.3       1.0          NaN       NaN   \n",
       "...          ...      ...      ...      ...       ...          ...       ...   \n",
       "8420  2017-06-21    Uluru      2.8     23.4       0.0          NaN       NaN   \n",
       "8421  2017-06-22    Uluru      3.6     25.3       0.0          NaN       NaN   \n",
       "8422  2017-06-23    Uluru      5.4     26.9       0.0          NaN       NaN   \n",
       "8423  2017-06-24    Uluru      7.8     27.0       0.0          NaN       NaN   \n",
       "8424  2017-06-25    Uluru     14.9      NaN       0.0          NaN       NaN   \n",
       "\n",
       "     WindGustDir  WindGustSpeed WindDir9am  ... Humidity9am  Humidity3pm  \\\n",
       "0              W           44.0          W  ...        71.0         22.0   \n",
       "1            WNW           44.0        NNW  ...        44.0         25.0   \n",
       "2            WSW           46.0          W  ...        38.0         30.0   \n",
       "3             NE           24.0         SE  ...        45.0         16.0   \n",
       "4              W           41.0        ENE  ...        82.0         33.0   \n",
       "...          ...            ...        ...  ...         ...          ...   \n",
       "8420           E           31.0         SE  ...        51.0         24.0   \n",
       "8421         NNW           22.0         SE  ...        56.0         21.0   \n",
       "8422           N           37.0         SE  ...        53.0         24.0   \n",
       "8423          SE           28.0        SSE  ...        51.0         24.0   \n",
       "8424         NaN            NaN        ESE  ...        62.0         36.0   \n",
       "\n",
       "      Pressure9am  Pressure3pm  Cloud9am  Cloud3pm  Temp9am  Temp3pm  \\\n",
       "0          1007.7       1007.1       8.0       NaN     16.9     21.8   \n",
       "1          1010.6       1007.8       NaN       NaN     17.2     24.3   \n",
       "2          1007.6       1008.7       NaN       2.0     21.0     23.2   \n",
       "3          1017.6       1012.8       NaN       NaN     18.1     26.5   \n",
       "4          1010.8       1006.0       7.0       8.0     17.8     29.7   \n",
       "...           ...          ...       ...       ...      ...      ...   \n",
       "8420       1024.6       1020.3       NaN       NaN     10.1     22.4   \n",
       "8421       1023.5       1019.1       NaN       NaN     10.9     24.5   \n",
       "8422       1021.0       1016.8       NaN       NaN     12.5     26.1   \n",
       "8423       1019.4       1016.5       3.0       2.0     15.1     26.0   \n",
       "8424       1020.2       1017.9       8.0       8.0     15.0     20.9   \n",
       "\n",
       "      RainToday  RainTomorrow  \n",
       "0            No            No  \n",
       "1            No            No  \n",
       "2            No            No  \n",
       "3            No            No  \n",
       "4            No            No  \n",
       "...         ...           ...  \n",
       "8420         No            No  \n",
       "8421         No            No  \n",
       "8422         No            No  \n",
       "8423         No            No  \n",
       "8424         No           NaN  \n",
       "\n",
       "[8425 rows x 23 columns]"
      ]
     },
     "execution_count": 108,
     "metadata": {},
     "output_type": "execute_result"
    }
   ],
   "source": [
    "df=pd.read_csv('/users/rekhagrg/downloads/weatherAUS.csv')\n",
    "df"
   ]
  },
  {
   "cell_type": "markdown",
   "id": "6c638632",
   "metadata": {},
   "source": [
    "# EDA"
   ]
  },
  {
   "cell_type": "code",
   "execution_count": 18,
   "id": "0382b241",
   "metadata": {},
   "outputs": [
    {
     "name": "stdout",
     "output_type": "stream",
     "text": [
      "         Date Location  MinTemp  MaxTemp  Rainfall  Evaporation  Sunshine  \\\n",
      "0  2008-12-01   Albury     13.4     22.9       0.6          NaN       NaN   \n",
      "1  2008-12-02   Albury      7.4     25.1       0.0          NaN       NaN   \n",
      "2  2008-12-03   Albury     12.9     25.7       0.0          NaN       NaN   \n",
      "3  2008-12-04   Albury      9.2     28.0       0.0          NaN       NaN   \n",
      "4  2008-12-05   Albury     17.5     32.3       1.0          NaN       NaN   \n",
      "\n",
      "  WindGustDir  WindGustSpeed WindDir9am  ... Humidity9am  Humidity3pm  \\\n",
      "0           W           44.0          W  ...        71.0         22.0   \n",
      "1         WNW           44.0        NNW  ...        44.0         25.0   \n",
      "2         WSW           46.0          W  ...        38.0         30.0   \n",
      "3          NE           24.0         SE  ...        45.0         16.0   \n",
      "4           W           41.0        ENE  ...        82.0         33.0   \n",
      "\n",
      "   Pressure9am  Pressure3pm  Cloud9am  Cloud3pm  Temp9am  Temp3pm  RainToday  \\\n",
      "0       1007.7       1007.1       8.0       NaN     16.9     21.8         No   \n",
      "1       1010.6       1007.8       NaN       NaN     17.2     24.3         No   \n",
      "2       1007.6       1008.7       NaN       2.0     21.0     23.2         No   \n",
      "3       1017.6       1012.8       NaN       NaN     18.1     26.5         No   \n",
      "4       1010.8       1006.0       7.0       8.0     17.8     29.7         No   \n",
      "\n",
      "   RainTomorrow  \n",
      "0            No  \n",
      "1            No  \n",
      "2            No  \n",
      "3            No  \n",
      "4            No  \n",
      "\n",
      "[5 rows x 23 columns]\n"
     ]
    }
   ],
   "source": [
    "#Display few first rows\n",
    "print(df.head())"
   ]
  },
  {
   "cell_type": "code",
   "execution_count": 19,
   "id": "6fc811f9",
   "metadata": {},
   "outputs": [
    {
     "name": "stdout",
     "output_type": "stream",
     "text": [
      "<bound method DataFrame.info of             Date Location  MinTemp  MaxTemp  Rainfall  Evaporation  Sunshine  \\\n",
      "0     2008-12-01   Albury     13.4     22.9       0.6          NaN       NaN   \n",
      "1     2008-12-02   Albury      7.4     25.1       0.0          NaN       NaN   \n",
      "2     2008-12-03   Albury     12.9     25.7       0.0          NaN       NaN   \n",
      "3     2008-12-04   Albury      9.2     28.0       0.0          NaN       NaN   \n",
      "4     2008-12-05   Albury     17.5     32.3       1.0          NaN       NaN   \n",
      "...          ...      ...      ...      ...       ...          ...       ...   \n",
      "8420  2017-06-21    Uluru      2.8     23.4       0.0          NaN       NaN   \n",
      "8421  2017-06-22    Uluru      3.6     25.3       0.0          NaN       NaN   \n",
      "8422  2017-06-23    Uluru      5.4     26.9       0.0          NaN       NaN   \n",
      "8423  2017-06-24    Uluru      7.8     27.0       0.0          NaN       NaN   \n",
      "8424  2017-06-25    Uluru     14.9      NaN       0.0          NaN       NaN   \n",
      "\n",
      "     WindGustDir  WindGustSpeed WindDir9am  ... Humidity9am  Humidity3pm  \\\n",
      "0              W           44.0          W  ...        71.0         22.0   \n",
      "1            WNW           44.0        NNW  ...        44.0         25.0   \n",
      "2            WSW           46.0          W  ...        38.0         30.0   \n",
      "3             NE           24.0         SE  ...        45.0         16.0   \n",
      "4              W           41.0        ENE  ...        82.0         33.0   \n",
      "...          ...            ...        ...  ...         ...          ...   \n",
      "8420           E           31.0         SE  ...        51.0         24.0   \n",
      "8421         NNW           22.0         SE  ...        56.0         21.0   \n",
      "8422           N           37.0         SE  ...        53.0         24.0   \n",
      "8423          SE           28.0        SSE  ...        51.0         24.0   \n",
      "8424         NaN            NaN        ESE  ...        62.0         36.0   \n",
      "\n",
      "      Pressure9am  Pressure3pm  Cloud9am  Cloud3pm  Temp9am  Temp3pm  \\\n",
      "0          1007.7       1007.1       8.0       NaN     16.9     21.8   \n",
      "1          1010.6       1007.8       NaN       NaN     17.2     24.3   \n",
      "2          1007.6       1008.7       NaN       2.0     21.0     23.2   \n",
      "3          1017.6       1012.8       NaN       NaN     18.1     26.5   \n",
      "4          1010.8       1006.0       7.0       8.0     17.8     29.7   \n",
      "...           ...          ...       ...       ...      ...      ...   \n",
      "8420       1024.6       1020.3       NaN       NaN     10.1     22.4   \n",
      "8421       1023.5       1019.1       NaN       NaN     10.9     24.5   \n",
      "8422       1021.0       1016.8       NaN       NaN     12.5     26.1   \n",
      "8423       1019.4       1016.5       3.0       2.0     15.1     26.0   \n",
      "8424       1020.2       1017.9       8.0       8.0     15.0     20.9   \n",
      "\n",
      "      RainToday  RainTomorrow  \n",
      "0            No            No  \n",
      "1            No            No  \n",
      "2            No            No  \n",
      "3            No            No  \n",
      "4            No            No  \n",
      "...         ...           ...  \n",
      "8420         No            No  \n",
      "8421         No            No  \n",
      "8422         No            No  \n",
      "8423         No            No  \n",
      "8424         No           NaN  \n",
      "\n",
      "[8425 rows x 23 columns]>\n"
     ]
    }
   ],
   "source": [
    "print(df.info)"
   ]
  },
  {
   "cell_type": "code",
   "execution_count": 20,
   "id": "171135ab",
   "metadata": {},
   "outputs": [
    {
     "name": "stdout",
     "output_type": "stream",
     "text": [
      "           MinTemp      MaxTemp     Rainfall  Evaporation     Sunshine  \\\n",
      "count  8350.000000  8365.000000  8185.000000  4913.000000  4431.000000   \n",
      "mean     13.193305    23.859976     2.805913     5.389395     7.632205   \n",
      "std       5.403596     6.136408    10.459379     5.044484     3.896235   \n",
      "min      -2.000000     8.200000     0.000000     0.000000     0.000000   \n",
      "25%       9.200000    19.300000     0.000000     2.600000     4.750000   \n",
      "50%      13.300000    23.300000     0.000000     4.600000     8.700000   \n",
      "75%      17.400000    28.000000     1.000000     7.000000    10.700000   \n",
      "max      28.500000    45.500000   371.000000   145.000000    13.900000   \n",
      "\n",
      "       WindGustSpeed  WindSpeed9am  WindSpeed3pm  Humidity9am  Humidity3pm  \\\n",
      "count    7434.000000   8349.000000   8318.000000  8366.000000  8323.000000   \n",
      "mean       40.174469     13.847646     18.533662    67.822496    51.249790   \n",
      "std        14.665721     10.174579      9.766986    16.833283    18.423774   \n",
      "min         7.000000      0.000000      0.000000    10.000000     6.000000   \n",
      "25%        30.000000      6.000000     11.000000    56.000000    39.000000   \n",
      "50%        39.000000     13.000000     19.000000    68.000000    51.000000   \n",
      "75%        50.000000     20.000000     24.000000    80.000000    63.000000   \n",
      "max       107.000000     63.000000     83.000000   100.000000    99.000000   \n",
      "\n",
      "       Pressure9am  Pressure3pm     Cloud9am     Cloud3pm      Temp9am  \\\n",
      "count  7116.000000  7113.000000  6004.000000  5970.000000  8369.000000   \n",
      "mean   1017.640233  1015.236075     4.566622     4.503183    17.762015   \n",
      "std       6.828699     6.766681     2.877658     2.731659     5.627035   \n",
      "min     989.800000   982.900000     0.000000     0.000000     1.900000   \n",
      "25%    1013.000000  1010.400000     1.000000     2.000000    13.800000   \n",
      "50%    1017.700000  1015.300000     5.000000     5.000000    17.800000   \n",
      "75%    1022.300000  1019.800000     7.000000     7.000000    21.900000   \n",
      "max    1039.000000  1036.000000     8.000000     8.000000    39.400000   \n",
      "\n",
      "           Temp3pm  \n",
      "count  8329.000000  \n",
      "mean     22.442934  \n",
      "std       5.980020  \n",
      "min       7.300000  \n",
      "25%      18.000000  \n",
      "50%      21.900000  \n",
      "75%      26.400000  \n",
      "max      44.100000  \n"
     ]
    }
   ],
   "source": [
    "#summary statiscs for numeris column\n",
    "print(df.describe())"
   ]
  },
  {
   "cell_type": "code",
   "execution_count": 21,
   "id": "14871313",
   "metadata": {},
   "outputs": [
    {
     "name": "stdout",
     "output_type": "stream",
     "text": [
      "Date                0\n",
      "Location            0\n",
      "MinTemp            75\n",
      "MaxTemp            60\n",
      "Rainfall          240\n",
      "Evaporation      3512\n",
      "Sunshine         3994\n",
      "WindGustDir       991\n",
      "WindGustSpeed     991\n",
      "WindDir9am        829\n",
      "WindDir3pm        308\n",
      "WindSpeed9am       76\n",
      "WindSpeed3pm      107\n",
      "Humidity9am        59\n",
      "Humidity3pm       102\n",
      "Pressure9am      1309\n",
      "Pressure3pm      1312\n",
      "Cloud9am         2421\n",
      "Cloud3pm         2455\n",
      "Temp9am            56\n",
      "Temp3pm            96\n",
      "RainToday         240\n",
      "RainTomorrow      239\n",
      "dtype: int64\n"
     ]
    }
   ],
   "source": [
    "#check for missing value\n",
    "print(df.isnull().sum())"
   ]
  },
  {
   "cell_type": "code",
   "execution_count": 42,
   "id": "95f290a9",
   "metadata": {},
   "outputs": [],
   "source": [
    "#drop any missing rows with value missing\n",
    "df=df.dropna(subset=['RainTomorrow'])"
   ]
  },
  {
   "cell_type": "code",
   "execution_count": 43,
   "id": "ee89dbc3",
   "metadata": {},
   "outputs": [],
   "source": [
    "#fills missing vlue for numerical features\n",
    "df['MinTemp'].fillna(df['MinTemp'].mean(),inplace=True)\n",
    "df['MaxTemp'].fillna(df['MaxTemp'].mean(),inplace=True)\n"
   ]
  },
  {
   "cell_type": "code",
   "execution_count": 56,
   "id": "b444b837",
   "metadata": {
    "scrolled": true
   },
   "outputs": [],
   "source": [
    "#convert categorical variable to numerical using label Encoding\n",
    "le=LabelEncoder()\n",
    "df['RainTomorrow']=le.fit_transform(df['RainTomorrow'])\n",
    "df=pd.get_dummies(df,drop_first=True)"
   ]
  },
  {
   "cell_type": "code",
   "execution_count": 57,
   "id": "ab8b4302",
   "metadata": {},
   "outputs": [
    {
     "data": {
      "text/plain": [
       "MinTemp           0\n",
       "MaxTemp           0\n",
       "Rainfall          0\n",
       "Evaporation       0\n",
       "Sunshine          0\n",
       "                 ..\n",
       "WindDir3pm_SW     0\n",
       "WindDir3pm_W      0\n",
       "WindDir3pm_WNW    0\n",
       "WindDir3pm_WSW    0\n",
       "RainToday_Yes     0\n",
       "Length: 3039, dtype: int64"
      ]
     },
     "execution_count": 57,
     "metadata": {},
     "output_type": "execute_result"
    }
   ],
   "source": [
    "df.isnull().sum()"
   ]
  },
  {
   "cell_type": "markdown",
   "id": "3123f6e3",
   "metadata": {},
   "source": [
    "There are infinity or large values in dataset. so in order to handle we have to use feature\n",
    " scaling and do Imputation "
   ]
  },
  {
   "cell_type": "code",
   "execution_count": 58,
   "id": "7fcab623",
   "metadata": {},
   "outputs": [],
   "source": [
    "# Fill missing values for numerical features\n",
    "df['Rainfall'].fillna(df['Rainfall'].mean(), inplace=True)\n",
    "df['Evaporation'].fillna(df['Evaporation'].mean(), inplace=True)\n",
    "df['Sunshine'].fillna(df['Sunshine'].mean(), inplace=True)"
   ]
  },
  {
   "cell_type": "code",
   "execution_count": 59,
   "id": "da730dae",
   "metadata": {},
   "outputs": [
    {
     "data": {
      "text/plain": [
       "MinTemp           0\n",
       "MaxTemp           0\n",
       "Rainfall          0\n",
       "Evaporation       0\n",
       "Sunshine          0\n",
       "                 ..\n",
       "WindDir3pm_SW     0\n",
       "WindDir3pm_W      0\n",
       "WindDir3pm_WNW    0\n",
       "WindDir3pm_WSW    0\n",
       "RainToday_Yes     0\n",
       "Length: 3039, dtype: int64"
      ]
     },
     "execution_count": 59,
     "metadata": {},
     "output_type": "execute_result"
    }
   ],
   "source": [
    "df.isnull().sum()"
   ]
  },
  {
   "cell_type": "code",
   "execution_count": 60,
   "id": "7ecd73e3",
   "metadata": {},
   "outputs": [],
   "source": [
    "# Split the data into features and target for classification\n",
    "X_classification = df.drop(['RainTomorrow', 'Rainfall'], axis=1)\n",
    "y_classification = df['RainTomorrow']"
   ]
  },
  {
   "cell_type": "code",
   "execution_count": 61,
   "id": "55f2cd49",
   "metadata": {},
   "outputs": [],
   "source": [
    "# Split the data into features and target for regression\n",
    "X_regression = df.drop(['RainTomorrow', 'Rainfall'], axis=1)\n",
    "y_regression = df['Rainfall']"
   ]
  },
  {
   "cell_type": "code",
   "execution_count": 62,
   "id": "7bd6b86a",
   "metadata": {},
   "outputs": [],
   "source": [
    "# Split the data into features and target for classification\n",
    "X_classification = df.drop(['RainTomorrow', 'Rainfall'], axis=1)\n",
    "y_classification = df['RainTomorrow']\n",
    "\n",
    "# Split the data into train and test sets for classification\n",
    "X_train_classification, X_test_classification, y_train_classification, y_test_classification = train_test_split(\n",
    "    X_classification, y_classification, test_size=0.2, random_state=42\n",
    ")\n"
   ]
  },
  {
   "cell_type": "code",
   "execution_count": 63,
   "id": "8558514c",
   "metadata": {},
   "outputs": [],
   "source": [
    "# Assuming df is your DataFrame\n",
    "df = df.fillna(df.mean())\n"
   ]
  },
  {
   "cell_type": "code",
   "execution_count": 64,
   "id": "aed54e0b",
   "metadata": {},
   "outputs": [],
   "source": [
    "df.replace([np.inf, -np.inf], np.nan, inplace=True)\n",
    "df.fillna(1e10, inplace=True)  # Replace with a large finite number\n"
   ]
  },
  {
   "cell_type": "code",
   "execution_count": 65,
   "id": "6154de35",
   "metadata": {},
   "outputs": [],
   "source": [
    "from sklearn.preprocessing import StandardScaler\n",
    "\n",
    "scaler = StandardScaler()\n",
    "df_scaled = scaler.fit_transform(df)\n"
   ]
  },
  {
   "cell_type": "markdown",
   "id": "50640f2f",
   "metadata": {},
   "source": [
    "# Classsification"
   ]
  },
  {
   "cell_type": "markdown",
   "id": "ba686821",
   "metadata": {},
   "source": [
    "Logistic Regression"
   ]
  },
  {
   "cell_type": "code",
   "execution_count": 68,
   "id": "6e70150c",
   "metadata": {},
   "outputs": [],
   "source": [
    "#Logistic Regression\n",
    "logreg_classifier=LogisticRegression(random_state=42)\n",
    "logreg_classifier.fit(X_train_classification,y_train_classification)\n",
    "logreg_predictions=logreg_classifier.predict(X_test_classification)"
   ]
  },
  {
   "cell_type": "code",
   "execution_count": 69,
   "id": "d6ad30f9",
   "metadata": {},
   "outputs": [
    {
     "name": "stdout",
     "output_type": "stream",
     "text": [
      "Logistics Regression:\n",
      "Accuracy: 0.5152625152625152\n",
      "Classification Report:\n",
      "              precision    recall  f1-score   support\n",
      "\n",
      "           0       0.82      0.47      0.60      1248\n",
      "           1       0.28      0.66      0.39       390\n",
      "\n",
      "    accuracy                           0.52      1638\n",
      "   macro avg       0.55      0.57      0.50      1638\n",
      "weighted avg       0.69      0.52      0.55      1638\n",
      "\n"
     ]
    }
   ],
   "source": [
    "#Evaluate Logistic Regression\n",
    "print(\"Logistics Regression:\")\n",
    "print(\"Accuracy:\",accuracy_score(y_test_classification,logreg_predictions))\n",
    "print(\"Classification Report:\")\n",
    "print(classification_report(y_test_classification,logreg_predictions))"
   ]
  },
  {
   "cell_type": "markdown",
   "id": "305dc307",
   "metadata": {},
   "source": [
    "Random Forest Classifier"
   ]
  },
  {
   "cell_type": "code",
   "execution_count": 70,
   "id": "4416a64d",
   "metadata": {},
   "outputs": [],
   "source": [
    "# Random Forest Classifier\n",
    "rf_classifier = RandomForestClassifier(random_state=42)\n",
    "rf_classifier.fit(X_train_classification, y_train_classification)\n",
    "rf_predictions = rf_classifier.predict(X_test_classification)\n"
   ]
  },
  {
   "cell_type": "code",
   "execution_count": 71,
   "id": "bdf05b19",
   "metadata": {},
   "outputs": [
    {
     "name": "stdout",
     "output_type": "stream",
     "text": [
      "\n",
      "Random Forest Classifier:\n",
      "Accuracy: 0.8974358974358975\n",
      "Classification Report:\n",
      "              precision    recall  f1-score   support\n",
      "\n",
      "           0       0.90      0.98      0.94      1248\n",
      "           1       0.91      0.63      0.75       390\n",
      "\n",
      "    accuracy                           0.90      1638\n",
      "   macro avg       0.90      0.81      0.84      1638\n",
      "weighted avg       0.90      0.90      0.89      1638\n",
      "\n"
     ]
    }
   ],
   "source": [
    "# Evaluate Random Forest Classifier\n",
    "print(\"\\nRandom Forest Classifier:\")\n",
    "print(\"Accuracy:\", accuracy_score(y_test_classification, rf_predictions))\n",
    "print(\"Classification Report:\")\n",
    "print(classification_report(y_test_classification, rf_predictions))\n"
   ]
  },
  {
   "cell_type": "code",
   "execution_count": 72,
   "id": "fe4a799d",
   "metadata": {},
   "outputs": [],
   "source": [
    "# Gradient Boosting Classifier\n",
    "gb_classifier = GradientBoostingClassifier(random_state=42)\n",
    "gb_classifier.fit(X_train_classification, y_train_classification)\n",
    "gb_predictions = gb_classifier.predict(X_test_classification)\n"
   ]
  },
  {
   "cell_type": "code",
   "execution_count": 73,
   "id": "0d6afdc4",
   "metadata": {},
   "outputs": [
    {
     "name": "stdout",
     "output_type": "stream",
     "text": [
      "\n",
      "Gradient Boosting Classifier:\n",
      "Accuracy: 0.8449328449328449\n",
      "Classification Report:\n",
      "              precision    recall  f1-score   support\n",
      "\n",
      "           0       0.86      0.96      0.90      1248\n",
      "           1       0.78      0.49      0.60       390\n",
      "\n",
      "    accuracy                           0.84      1638\n",
      "   macro avg       0.82      0.72      0.75      1638\n",
      "weighted avg       0.84      0.84      0.83      1638\n",
      "\n"
     ]
    }
   ],
   "source": [
    "# Evaluate Gradient Boosting Classifier\n",
    "print(\"\\nGradient Boosting Classifier:\")\n",
    "print(\"Accuracy:\", accuracy_score(y_test_classification, gb_predictions))\n",
    "print(\"Classification Report:\")\n",
    "print(classification_report(y_test_classification, gb_predictions))"
   ]
  },
  {
   "cell_type": "markdown",
   "id": "8026c9db",
   "metadata": {},
   "source": [
    "Visualisation "
   ]
  },
  {
   "cell_type": "code",
   "execution_count": 74,
   "id": "cc08d19c",
   "metadata": {},
   "outputs": [
    {
     "data": {
      "image/png": "[encoded data removed]",
      "text/plain": [
       "<Figure size 800x600 with 2 Axes>"
      ]
     },
     "metadata": {},
     "output_type": "display_data"
    }
   ],
   "source": [
    "cm = confusion_matrix(y_test_classification, logreg_predictions)\n",
    "plt.figure(figsize=(8, 6))\n",
    "sns.heatmap(cm, annot=True, fmt=\"d\", cmap=\"Blues\", xticklabels=['No Rain', 'Rain'], yticklabels=['No Rain', 'Rain'])\n",
    "plt.xlabel('Predicted')\n",
    "plt.ylabel('Actual')\n",
    "plt.title('Confusion Matrix')\n",
    "plt.show()\n"
   ]
  },
  {
   "cell_type": "markdown",
   "id": "2d559710",
   "metadata": {},
   "source": [
    "ROC curve and AUC score "
   ]
  },
  {
   "cell_type": "code",
   "execution_count": 75,
   "id": "d1796164",
   "metadata": {},
   "outputs": [],
   "source": [
    "logreg_probs = logreg_classifier.predict_proba(X_test_classification)[:, 1]"
   ]
  },
  {
   "cell_type": "code",
   "execution_count": 76,
   "id": "f0bf3aa7",
   "metadata": {},
   "outputs": [],
   "source": [
    "fpr, tpr, thresholds = roc_curve(y_test_classification, logreg_probs)\n",
    "roc_auc = roc_auc_score(y_test_classification, logreg_probs)"
   ]
  },
  {
   "cell_type": "code",
   "execution_count": 77,
   "id": "33b2d37e",
   "metadata": {},
   "outputs": [
    {
     "data": {
      "image/png": "[encoded data removed]",
      "text/plain": [
       "<Figure size 800x600 with 1 Axes>"
      ]
     },
     "metadata": {},
     "output_type": "display_data"
    }
   ],
   "source": [
    "# Plot ROC curve\n",
    "plt.figure(figsize=(8, 6))\n",
    "plt.plot(fpr, tpr, color='darkorange', lw=2, label=f'AUC = {roc_auc:.2f}')\n",
    "plt.plot([0, 1], [0, 1], color='navy', lw=2, linestyle='--')\n",
    "plt.xlabel('False Positive Rate')\n",
    "plt.ylabel('True Positive Rate')\n",
    "plt.title('ROC Curve')\n",
    "plt.legend()\n",
    "plt.show()"
   ]
  },
  {
   "cell_type": "markdown",
   "id": "76f3c041",
   "metadata": {},
   "source": [
    "# Precision-Recall Curve"
   ]
  },
  {
   "cell_type": "code",
   "execution_count": 78,
   "id": "57135cb2",
   "metadata": {},
   "outputs": [],
   "source": [
    "# Calculate precision-recall curve and AUC score\n",
    "precision, recall, _ = precision_recall_curve(y_test_classification, logreg_probs)\n",
    "pr_auc = auc(recall, precision)"
   ]
  },
  {
   "cell_type": "code",
   "execution_count": 79,
   "id": "d4073f23",
   "metadata": {},
   "outputs": [
    {
     "data": {
      "image/png": "[encoded data removed]",
      "text/plain": [
       "<Figure size 800x600 with 1 Axes>"
      ]
     },
     "metadata": {},
     "output_type": "display_data"
    }
   ],
   "source": [
    "# Plot Precision-Recall curve\n",
    "plt.figure(figsize=(8, 6))\n",
    "plt.plot(recall, precision, color='darkorange', lw=2, label=f'PR AUC = {pr_auc:.2f}')\n",
    "plt.xlabel('Recall')\n",
    "plt.ylabel('Precision')\n",
    "plt.title('Precision-Recall Curve')\n",
    "plt.legend()\n",
    "plt.show()"
   ]
  },
  {
   "cell_type": "code",
   "execution_count": 87,
   "id": "02e15aae",
   "metadata": {},
   "outputs": [
    {
     "name": "stdout",
     "output_type": "stream",
     "text": [
      "\n",
      "Summary of Results:\n",
      "Logistic Regression:\n",
      "Accuracy: 0.5152625152625152\n",
      "              precision    recall  f1-score   support\n",
      "\n",
      "           0       0.82      0.47      0.60      1248\n",
      "           1       0.28      0.66      0.39       390\n",
      "\n",
      "    accuracy                           0.52      1638\n",
      "   macro avg       0.55      0.57      0.50      1638\n",
      "weighted avg       0.69      0.52      0.55      1638\n",
      "\n",
      "\n",
      "Random Forest Classifier:\n",
      "Accuracy: 0.8974358974358975\n",
      "              precision    recall  f1-score   support\n",
      "\n",
      "           0       0.90      0.98      0.94      1248\n",
      "           1       0.91      0.63      0.75       390\n",
      "\n",
      "    accuracy                           0.90      1638\n",
      "   macro avg       0.90      0.81      0.84      1638\n",
      "weighted avg       0.90      0.90      0.89      1638\n",
      "\n",
      "\n",
      "Gradient Boosting Classifier:\n",
      "Accuracy: 0.8449328449328449\n",
      "              precision    recall  f1-score   support\n",
      "\n",
      "           0       0.86      0.96      0.90      1248\n",
      "           1       0.78      0.49      0.60       390\n",
      "\n",
      "    accuracy                           0.84      1638\n",
      "   macro avg       0.82      0.72      0.75      1638\n",
      "weighted avg       0.84      0.84      0.83      1638\n",
      "\n"
     ]
    }
   ],
   "source": [
    "# Summary of Results\n",
    "print(\"\\nSummary of Results:\")\n",
    "print(\"Logistic Regression:\")\n",
    "print(\"Accuracy:\", accuracy_score(y_test_classification, logreg_predictions))\n",
    "print(classification_report(y_test_classification, logreg_predictions))\n",
    "\n",
    "print(\"\\nRandom Forest Classifier:\")\n",
    "print(\"Accuracy:\", accuracy_score(y_test_classification, rf_predictions))\n",
    "print(classification_report(y_test_classification, rf_predictions))\n",
    "\n",
    "print(\"\\nGradient Boosting Classifier:\")\n",
    "print(\"Accuracy:\", accuracy_score(y_test_classification, gb_predictions))\n",
    "print(classification_report(y_test_classification, gb_predictions))\n"
   ]
  },
  {
   "cell_type": "code",
   "execution_count": null,
   "id": "c79cf226",
   "metadata": {},
   "outputs": [],
   "source": []
  },
  {
   "cell_type": "code",
   "execution_count": 88,
   "id": "d60335e2",
   "metadata": {},
   "outputs": [
    {
     "name": "stdout",
     "output_type": "stream",
     "text": [
      "X_train_classification shape: (6548, 3037)\n",
      "X_test_classification shape: (1638, 3039)\n"
     ]
    }
   ],
   "source": [
    "print(\"X_train_classification shape:\", X_train_classification.shape)\n",
    "print(\"X_test_classification shape:\", X_test_classification.shape)\n"
   ]
  },
  {
   "cell_type": "code",
   "execution_count": 97,
   "id": "160b5686",
   "metadata": {},
   "outputs": [
    {
     "name": "stdout",
     "output_type": "stream",
     "text": [
      "Columns in X_train_classification: Index(['Date_2016-10-21', 'Date_2016-10-10', 'Date_2014-02-22',\n",
      "       'Date_2009-01-29', 'Date_2012-03-17', 'Date_2009-11-01',\n",
      "       'Date_2010-09-26', 'Date_2015-04-06', 'Date_2016-09-22',\n",
      "       'Date_2017-06-16',\n",
      "       ...\n",
      "       'Date_2016-09-12', 'Date_2010-10-01', 'Date_2016-02-21',\n",
      "       'Date_2016-08-03', 'Date_2008-12-02', 'Date_2015-01-14',\n",
      "       'Date_2011-07-09', 'Date_2014-09-19', 'Date_2015-06-09',\n",
      "       'Date_2010-05-27'],\n",
      "      dtype='object', length=3037)\n",
      "Columns in X_test_classification: Index(['Date_2016-10-21', 'Date_2016-10-10', 'Date_2014-02-22',\n",
      "       'Date_2009-01-29', 'Date_2012-03-17', 'Date_2009-11-01',\n",
      "       'Date_2010-09-26', 'Date_2015-04-06', 'Date_2016-09-22',\n",
      "       'Date_2017-06-16',\n",
      "       ...\n",
      "       'Date_2016-02-21', 'Date_2016-08-03', 'Date_2008-12-02',\n",
      "       'Date_2015-01-14', 'Date_2011-07-09', 'Date_2014-09-19',\n",
      "       'Date_2015-06-09', 'Date_2010-05-27', 'LogReg_Predictions',\n",
      "       'LogReg_Probabilities'],\n",
      "      dtype='object', length=3039)\n"
     ]
    }
   ],
   "source": [
    "print(\"Columns in X_train_classification:\", X_train_classification.columns)\n",
    "print(\"Columns in X_test_classification:\", X_test_classification.columns)\n"
   ]
  },
  {
   "cell_type": "code",
   "execution_count": 98,
   "id": "6afc6c9f",
   "metadata": {},
   "outputs": [
    {
     "name": "stdout",
     "output_type": "stream",
     "text": [
      "X_train_classification shape: (6548, 3037)\n",
      "X_test_classification shape: (1638, 3037)\n"
     ]
    },
    {
     "name": "stderr",
     "output_type": "stream",
     "text": [
      "/var/folders/qj/4gvz0wyj0598kk1jnjjqgsd40000gn/T/ipykernel_3919/117519792.py:4: FutureWarning: Passing a set as an indexer is deprecated and will raise in a future version. Use a list instead.\n",
      "  X_train_classification = X_train_classification[common_columns]\n",
      "/var/folders/qj/4gvz0wyj0598kk1jnjjqgsd40000gn/T/ipykernel_3919/117519792.py:5: FutureWarning: Passing a set as an indexer is deprecated and will raise in a future version. Use a list instead.\n",
      "  X_test_classification = X_test_classification[common_columns]\n"
     ]
    }
   ],
   "source": [
    "# Align columns in training and test sets\n",
    "common_columns = set(X_train_classification.columns) & set(X_test_classification.columns)\n",
    "\n",
    "X_train_classification = X_train_classification[common_columns]\n",
    "X_test_classification = X_test_classification[common_columns]\n",
    "\n",
    "# Now, both sets should have the same columns\n",
    "print(\"X_train_classification shape:\", X_train_classification.shape)\n",
    "print(\"X_test_classification shape:\", X_test_classification.shape)\n"
   ]
  },
  {
   "cell_type": "code",
   "execution_count": 99,
   "id": "dfc92e5b",
   "metadata": {},
   "outputs": [
    {
     "name": "stderr",
     "output_type": "stream",
     "text": [
      "/var/folders/qj/4gvz0wyj0598kk1jnjjqgsd40000gn/T/ipykernel_3919/770333685.py:8: SettingWithCopyWarning: \n",
      "A value is trying to be set on a copy of a slice from a DataFrame.\n",
      "Try using .loc[row_indexer,col_indexer] = value instead\n",
      "\n",
      "See the caveats in the documentation: https://pandas.pydata.org/pandas-docs/stable/user_guide/indexing.html#returning-a-view-versus-a-copy\n",
      "  X_test_classification['LogReg_Predictions'] = logreg_predictions\n"
     ]
    }
   ],
   "source": [
    "# Logistic Regression\n",
    "logreg_classifier = LogisticRegression(random_state=42)\n",
    "logreg_classifier.fit(X_train_classification, y_train_classification)\n",
    "logreg_predictions = logreg_classifier.predict(X_test_classification)\n",
    "logreg_probs = logreg_classifier.predict_proba(X_test_classification)[:, 1]\n",
    "\n",
    "# Add predictions and probabilities to the DataFrame\n",
    "X_test_classification['LogReg_Predictions'] = logreg_predictions\n",
    "X_test_classification['LogReg_Probabilities'] = logreg_probs\n"
   ]
  },
  {
   "cell_type": "code",
   "execution_count": 101,
   "id": "ec9ea728",
   "metadata": {},
   "outputs": [],
   "source": [
    "common_columns = X_train_classification.columns.intersection(X_test_classification.columns)\n"
   ]
  },
  {
   "cell_type": "code",
   "execution_count": 102,
   "id": "ba75a951",
   "metadata": {},
   "outputs": [],
   "source": [
    "X_train_classification = X_train_classification[common_columns]\n",
    "X_test_classification = X_test_classification[common_columns]\n"
   ]
  },
  {
   "cell_type": "code",
   "execution_count": 103,
   "id": "2ef4233c",
   "metadata": {},
   "outputs": [
    {
     "name": "stdout",
     "output_type": "stream",
     "text": [
      "X_train_classification shape: (6548, 3037)\n",
      "X_test_classification shape: (1638, 3037)\n"
     ]
    }
   ],
   "source": [
    "print(\"X_train_classification shape:\", X_train_classification.shape)\n",
    "print(\"X_test_classification shape:\", X_test_classification.shape)\n"
   ]
  },
  {
   "cell_type": "code",
   "execution_count": 104,
   "id": "e6198c0e",
   "metadata": {},
   "outputs": [
    {
     "data": {
      "text/plain": [
       "RandomForestClassifier(random_state=42)"
      ]
     },
     "execution_count": 104,
     "metadata": {},
     "output_type": "execute_result"
    }
   ],
   "source": [
    "rf_classifier.fit(X_train_classification, y_train_classification)\n"
   ]
  },
  {
   "cell_type": "code",
   "execution_count": 105,
   "id": "5fe1a502",
   "metadata": {
    "scrolled": true
   },
   "outputs": [
    {
     "name": "stderr",
     "output_type": "stream",
     "text": [
      "/var/folders/qj/4gvz0wyj0598kk1jnjjqgsd40000gn/T/ipykernel_3919/138367908.py:8: SettingWithCopyWarning: \n",
      "A value is trying to be set on a copy of a slice from a DataFrame.\n",
      "Try using .loc[row_indexer,col_indexer] = value instead\n",
      "\n",
      "See the caveats in the documentation: https://pandas.pydata.org/pandas-docs/stable/user_guide/indexing.html#returning-a-view-versus-a-copy\n",
      "  X_test_classification['RFC_Predictions'] = rf_predictions\n"
     ]
    }
   ],
   "source": [
    "# Random Forest Classifier\n",
    "rf_classifier = RandomForestClassifier(random_state=42)\n",
    "rf_classifier.fit(X_train_classification, y_train_classification)\n",
    "rf_predictions = rf_classifier.predict(X_test_classification)\n",
    "rf_probs = rf_classifier.predict_proba(X_test_classification)[:, 1]\n",
    "\n",
    "# Add predictions and probabilities to the DataFrame\n",
    "X_test_classification['RFC_Predictions'] = rf_predictions\n",
    "X_test_classification['RFC_Probabilities'] = rf_probs"
   ]
  },
  {
   "cell_type": "code",
   "execution_count": 107,
   "id": "979de466",
   "metadata": {},
   "outputs": [
    {
     "name": "stdout",
     "output_type": "stream",
     "text": [
      "      Date_2016-10-21  Date_2016-10-10  Date_2014-02-22  Date_2009-01-29  \\\n",
      "2144                0                0                0                0   \n",
      "3731                0                0                0                0   \n",
      "3051                0                0                0                0   \n",
      "6927                0                0                0                0   \n",
      "1330                0                0                0                0   \n",
      "\n",
      "      Date_2012-03-17  Date_2009-11-01  Date_2010-09-26  Date_2015-04-06  \\\n",
      "2144                0                0                0                0   \n",
      "3731                0                0                0                0   \n",
      "3051                0                0                0                0   \n",
      "6927                0                0                0                0   \n",
      "1330                0                0                0                0   \n",
      "\n",
      "      Date_2016-09-22  Date_2017-06-16  ...  Date_2008-12-02  Date_2015-01-14  \\\n",
      "2144                0                0  ...                0                0   \n",
      "3731                0                0  ...                0                0   \n",
      "3051                0                0  ...                0                0   \n",
      "6927                0                0  ...                0                0   \n",
      "1330                0                0  ...                0                0   \n",
      "\n",
      "      Date_2011-07-09  Date_2014-09-19  Date_2015-06-09  Date_2010-05-27  \\\n",
      "2144                0                0                0                0   \n",
      "3731                0                0                0                0   \n",
      "3051                0                0                0                0   \n",
      "6927                0                0                0                0   \n",
      "1330                0                0                0                0   \n",
      "\n",
      "      RFC_Predictions  RFC_Probabilities  GB_Predictions  GB_Probabilities  \n",
      "2144                0               0.28               0          0.431683  \n",
      "3731                0               0.42               1          0.537651  \n",
      "3051                1               0.93               1          0.935964  \n",
      "6927                0               0.06               0          0.065764  \n",
      "1330                0               0.08               0          0.045767  \n",
      "\n",
      "[5 rows x 3041 columns]\n"
     ]
    }
   ],
   "source": [
    "# Gradient Boosting Classifier\n",
    "gb_classifier = GradientBoostingClassifier(random_state=42)\n",
    "\n",
    "# Filter test set to include only common columns\n",
    "X_test_classification_filtered = X_test_classification[X_train_classification.columns]\n",
    "\n",
    "# Fit the model\n",
    "gb_classifier.fit(X_train_classification, y_train_classification)\n",
    "\n",
    "# Predictions and Probabilities\n",
    "gb_predictions = gb_classifier.predict(X_test_classification_filtered)\n",
    "gb_probs = gb_classifier.predict_proba(X_test_classification_filtered)[:, 1]\n",
    "\n",
    "# Add predictions and probabilities to the DataFrame\n",
    "X_test_classification['GB_Predictions'] = gb_predictions\n",
    "X_test_classification['GB_Probabilities'] = gb_probs\n",
    "\n",
    "# Display the modified DataFrame\n",
    "print(X_test_classification.head())\n"
   ]
  },
  {
   "cell_type": "code",
   "execution_count": 112,
   "id": "69d5408d",
   "metadata": {},
   "outputs": [
    {
     "name": "stderr",
     "output_type": "stream",
     "text": [
      "/var/folders/qj/4gvz0wyj0598kk1jnjjqgsd40000gn/T/ipykernel_3919/3719187667.py:3: FutureWarning: Passing a set as an indexer is deprecated and will raise in a future version. Use a list instead.\n",
      "  X_train_classification = X_train_classification[common_columns]\n",
      "/var/folders/qj/4gvz0wyj0598kk1jnjjqgsd40000gn/T/ipykernel_3919/3719187667.py:4: FutureWarning: Passing a set as an indexer is deprecated and will raise in a future version. Use a list instead.\n",
      "  X_test_classification = X_test_classification[common_columns]\n"
     ]
    }
   ],
   "source": [
    "common_columns = set(X_train_classification.columns) & set(X_test_classification.columns)\n",
    "\n",
    "X_train_classification = X_train_classification[common_columns]\n",
    "X_test_classification = X_test_classification[common_columns]\n"
   ]
  },
  {
   "cell_type": "code",
   "execution_count": 113,
   "id": "93655f37",
   "metadata": {},
   "outputs": [
    {
     "name": "stdout",
     "output_type": "stream",
     "text": [
      "X_train_classification shape: (6548, 3037)\n",
      "X_test_classification shape: (1638, 3037)\n"
     ]
    }
   ],
   "source": [
    "print(\"X_train_classification shape:\", X_train_classification.shape)\n",
    "print(\"X_test_classification shape:\", X_test_classification.shape)\n"
   ]
  },
  {
   "cell_type": "code",
   "execution_count": 114,
   "id": "f4a522da",
   "metadata": {},
   "outputs": [
    {
     "name": "stdout",
     "output_type": "stream",
     "text": [
      "      True_Labels  LogReg_Predictions  RF_Predictions  GB_Predictions  \\\n",
      "2144            1                   0               0               0   \n",
      "3731            1                   1               0               1   \n",
      "3051            1                   1               1               1   \n",
      "6927            0                   0               0               0   \n",
      "1330            0                   1               0               0   \n",
      "\n",
      "      LogReg_Probabilities  RF_Probabilities  GB_Probabilities  \n",
      "2144              0.267221              0.28          0.431683  \n",
      "3731              0.500000              0.42          0.537651  \n",
      "3051              0.500000              0.93          0.935964  \n",
      "6927              0.139020              0.06          0.065764  \n",
      "1330              0.500000              0.08          0.045767  \n"
     ]
    }
   ],
   "source": [
    "# Create a DataFrame to store updated results\n",
    "result_df = pd.DataFrame()\n",
    "\n",
    "# Add true labels and predictions for each model\n",
    "result_df['True_Labels'] = y_test_classification\n",
    "result_df['LogReg_Predictions'] = logreg_predictions\n",
    "result_df['RF_Predictions'] = rf_predictions\n",
    "result_df['GB_Predictions'] = gb_predictions\n",
    "\n",
    "# Add probabilities for each model\n",
    "result_df['LogReg_Probabilities'] = logreg_probs\n",
    "result_df['RF_Probabilities'] = rf_classifier.predict_proba(X_test_classification)[:, 1]\n",
    "result_df['GB_Probabilities'] = gb_probs\n",
    "\n",
    "# Display the updated result DataFrame\n",
    "print(result_df.head())\n"
   ]
  },
  {
   "cell_type": "code",
   "execution_count": null,
   "id": "c64f8e21",
   "metadata": {},
   "outputs": [],
   "source": []
  }
 ],
 "metadata": {
  "kernelspec": {
   "display_name": "Python 3 (ipykernel)",
   "language": "python",
   "name": "python3"
  },
  "language_info": {
   "codemirror_mode": {
    "name": "ipython",
    "version": 3
   },
   "file_extension": ".py",
   "mimetype": "text/x-python",
   "name": "python",
   "nbconvert_exporter": "python",
   "pygments_lexer": "ipython3",
   "version": "3.9.13"
  }
 },
 "nbformat": 4,
 "nbformat_minor": 5
}
